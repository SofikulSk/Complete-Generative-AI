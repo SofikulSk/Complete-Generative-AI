{
 "cells": [
  {
   "cell_type": "markdown",
   "id": "a71b045e",
   "metadata": {},
   "source": [
    "## Tokenization"
   ]
  },
  {
   "cell_type": "markdown",
   "id": "6a35f451",
   "metadata": {},
   "source": [
    "Tokenization is the proccess of converting paragraph or sentences into token "
   ]
  },
  {
   "cell_type": "markdown",
   "id": "3474f185",
   "metadata": {},
   "source": [
    "#### Terminologies\n",
    "1.corpus : paragraph\n",
    "\n",
    "2.Document :sentence\n",
    "\n",
    "3.vocabulary : unique words\n",
    "\n",
    "4.words \n",
    "\n"
   ]
  },
  {
   "cell_type": "markdown",
   "id": "0c804172",
   "metadata": {},
   "source": [
    "Example:  my name is sofikul and i am a cs student.\n",
    "i am from india. i love playing football.\n",
    "\n",
    "The above paragraph ,when we do tokenization we get:\n",
    "1.my name is sofikul and i am a cs student\n",
    "\n",
    "2.i am from india\n",
    "\n",
    "3.i love playing football\n",
    "\n",
    "so the process from converting from a paragraph is considering the fullstop or the exclaimation mark as a break point"
   ]
  },
  {
   "cell_type": "code",
   "execution_count": 47,
   "id": "5cafac12",
   "metadata": {},
   "outputs": [],
   "source": [
    "corpus=\"\"\"Hello welcome to nlp.\n",
    "this is the first content i am watching on nlp! hope i will complete this course.\"\"\""
   ]
  },
  {
   "cell_type": "code",
   "execution_count": 48,
   "id": "1eb28d34",
   "metadata": {},
   "outputs": [
    {
     "data": {
      "text/plain": [
       "'Hello welcome to nlp.\\nthis is the first content i am watching on nlp! hope i will complete this course.'"
      ]
     },
     "execution_count": 48,
     "metadata": {},
     "output_type": "execute_result"
    }
   ],
   "source": [
    "corpus"
   ]
  },
  {
   "cell_type": "code",
   "execution_count": 49,
   "id": "f5117176",
   "metadata": {},
   "outputs": [],
   "source": [
    "from nltk.tokenize import sent_tokenize"
   ]
  },
  {
   "cell_type": "code",
   "execution_count": 52,
   "id": "90a8fd74",
   "metadata": {},
   "outputs": [
    {
     "name": "stdout",
     "output_type": "stream",
     "text": [
      "['C:/Users/deskop/nltk_data', 'C:/Users/deskop/nltk_data', 'C:/Users/deskop/AppData/Roaming/nltk_data', 'C:/Users/deskop/AppData/Roaming/nltk_data', 'C:/Users/deskop/AppData/Roaming/nltk_data', 'C:/Users/deskop/AppData/Roaming/nltk_data', 'C:/Users/deskop/AppData/Roaming/nltk_data', 'C:/Users/deskop/AppData/Roaming/nltk_data', 'C:/Users/deskop/AppData/Roaming/nltk_data']\n"
     ]
    },
    {
     "name": "stderr",
     "output_type": "stream",
     "text": [
      "[nltk_data] Downloading package punkt to\n",
      "[nltk_data]     C:/Users/deskop/AppData/Roaming/nltk_data...\n",
      "[nltk_data]   Package punkt is already up-to-date!\n"
     ]
    }
   ],
   "source": [
    "import nltk\n",
    "\n",
    "# Explicitly set download directory\n",
    "nltk.download('punkt', download_dir='C:/Users/deskop/AppData/Roaming/nltk_data')\n",
    "\n",
    "# Optional: Print current paths\n",
    "print(nltk.data.path)\n"
   ]
  },
  {
   "cell_type": "code",
   "execution_count": 1,
   "id": "c861f74c",
   "metadata": {},
   "outputs": [
    {
     "name": "stdout",
     "output_type": "stream",
     "text": [
      "['Your text goes here.', 'Another sentence follows.']\n"
     ]
    },
    {
     "name": "stderr",
     "output_type": "stream",
     "text": [
      "[nltk_data] Downloading package punkt_tab to\n",
      "[nltk_data]     C:\\Users\\deskop\\AppData\\Roaming\\nltk_data...\n",
      "[nltk_data]   Package punkt_tab is already up-to-date!\n"
     ]
    }
   ],
   "source": [
    "import nltk\n",
    "nltk.data.path.append(\"C:/Users/deskop/AppData/Roaming/nltk_data\")  # Windows default\n",
    "\n",
    "from nltk.tokenize import sent_tokenize\n",
    "nltk.download('punkt_tab')\n",
    "corpus = \"Your text goes here. Another sentence follows.\"\n",
    "print(sent_tokenize(corpus))\n"
   ]
  },
  {
   "cell_type": "code",
   "execution_count": 2,
   "id": "86fd4435",
   "metadata": {},
   "outputs": [],
   "source": [
    "from nltk.tokenize import word_tokenize"
   ]
  },
  {
   "cell_type": "code",
   "execution_count": 3,
   "id": "f65818ca",
   "metadata": {},
   "outputs": [
    {
     "data": {
      "text/plain": [
       "['Your', 'text', 'goes', 'here', '.', 'Another', 'sentence', 'follows', '.']"
      ]
     },
     "execution_count": 3,
     "metadata": {},
     "output_type": "execute_result"
    }
   ],
   "source": [
    "word_tokenize(corpus)"
   ]
  },
  {
   "cell_type": "code",
   "execution_count": 57,
   "id": "503b6bc8",
   "metadata": {},
   "outputs": [],
   "source": [
    "from nltk.tokenize import TreebankWordTokenizer"
   ]
  },
  {
   "cell_type": "code",
   "execution_count": 58,
   "id": "794df0fa",
   "metadata": {},
   "outputs": [],
   "source": [
    "tokenizer=TreebankWordTokenizer()"
   ]
  },
  {
   "cell_type": "code",
   "execution_count": 59,
   "id": "372ba096",
   "metadata": {},
   "outputs": [
    {
     "data": {
      "text/plain": [
       "['Your', 'text', 'goes', 'here.', 'Another', 'sentence', 'follows', '.']"
      ]
     },
     "execution_count": 59,
     "metadata": {},
     "output_type": "execute_result"
    }
   ],
   "source": [
    "tokenizer.tokenize(corpus)"
   ]
  },
  {
   "cell_type": "code",
   "execution_count": null,
   "id": "a7e2d19f",
   "metadata": {},
   "outputs": [],
   "source": []
  },
  {
   "cell_type": "code",
   "execution_count": null,
   "id": "8d4a3b1f",
   "metadata": {},
   "outputs": [],
   "source": []
  },
  {
   "cell_type": "code",
   "execution_count": null,
   "id": "b10d4fec",
   "metadata": {},
   "outputs": [],
   "source": []
  },
  {
   "cell_type": "code",
   "execution_count": null,
   "id": "c8dd7b63",
   "metadata": {},
   "outputs": [],
   "source": []
  }
 ],
 "metadata": {
  "kernelspec": {
   "display_name": "Python 3",
   "language": "python",
   "name": "python3"
  },
  "language_info": {
   "codemirror_mode": {
    "name": "ipython",
    "version": 3
   },
   "file_extension": ".py",
   "mimetype": "text/x-python",
   "name": "python",
   "nbconvert_exporter": "python",
   "pygments_lexer": "ipython3",
   "version": "3.12.9"
  }
 },
 "nbformat": 4,
 "nbformat_minor": 5
}

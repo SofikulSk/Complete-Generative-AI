{
 "cells": [
  {
   "cell_type": "markdown",
   "id": "13f38ad9",
   "metadata": {},
   "source": [
    "### Function\n",
    "#### A function is a block of code that performs a specific task,function help in organizing code ,reusing code ,and improving readability "
   ]
  },
  {
   "cell_type": "code",
   "execution_count": null,
   "id": "ad1b17a2",
   "metadata": {},
   "outputs": [],
   "source": [
    "# Syntax \n",
    "def function_name(parameters):\n",
    "    \"\"\"Docstring\"\"\"\n",
    "    # function body\n",
    "    return expression"
   ]
  },
  {
   "cell_type": "code",
   "execution_count": null,
   "id": "b81a3970",
   "metadata": {},
   "outputs": [
    {
     "name": "stdout",
     "output_type": "stream",
     "text": [
      "even\n",
      "even\n",
      "odd\n"
     ]
    }
   ],
   "source": [
    "# why function\n",
    "num=24\n",
    "if num%2==0:\n",
    "    print(\"even\")\n",
    "else:   \n",
    "    print(\"odd\")\n",
    "    \n",
    "    \n",
    "# function  \n",
    "def check_even(num):\n",
    "    \"\"\"Check if the number is even or odd\"\"\"\n",
    "    if num%2==0:\n",
    "        print(\"even\")\n",
    "    else:   \n",
    "        print(\"odd\")\n",
    "check_even(24)\n",
    "check_even(25)"
   ]
  },
  {
   "cell_type": "code",
   "execution_count": 2,
   "id": "c84893f8",
   "metadata": {},
   "outputs": [
    {
     "name": "stdout",
     "output_type": "stream",
     "text": [
      "30\n"
     ]
    }
   ],
   "source": [
    "### function with multiple parameters\n",
    "\n",
    "def add(a,b):\n",
    "    return a+b\n",
    "\n",
    "result=add(10,20)\n",
    "print(result)"
   ]
  },
  {
   "cell_type": "code",
   "execution_count": null,
   "id": "1fef9c59",
   "metadata": {},
   "outputs": [
    {
     "name": "stdout",
     "output_type": "stream",
     "text": [
      "200\n",
      "100\n"
     ]
    }
   ],
   "source": [
    "## default parameters\n",
    "\n",
    "def mul(a,b=10):\n",
    "    return a*b;\n",
    "\n",
    "result=mul(10,20)\n",
    "print(result)\n",
    "\n",
    "result=mul(10)  # b=10 is default parameter\n",
    "print(result)"
   ]
  },
  {
   "cell_type": "code",
   "execution_count": null,
   "id": "5d80add1",
   "metadata": {},
   "outputs": [
    {
     "name": "stdout",
     "output_type": "stream",
     "text": [
      "1\n",
      "2\n",
      "3\n",
      "4\n",
      "5\n",
      "6\n",
      "7\n",
      "8\n",
      "9\n",
      "10\n",
      "rajib\n"
     ]
    }
   ],
   "source": [
    "### Variable length arguments\n",
    "### positional arguments and keyword arguments\n",
    "\n",
    "def print_numbers(*rajib):\n",
    "    for i in rajib:\n",
    "        print(i)\n",
    "print_numbers(1,2,3,4,5,6,7,8,9,10,'rajib')  ## positional arguments is taken as *args"
   ]
  },
  {
   "cell_type": "code",
   "execution_count": 7,
   "id": "70a1f2bf",
   "metadata": {},
   "outputs": [
    {
     "name": "stdout",
     "output_type": "stream",
     "text": [
      "a 1\n",
      "b 2\n",
      "c 3\n",
      "d 4\n",
      "e 5\n",
      "f 6\n",
      "g 7\n",
      "h 8\n",
      "i 9\n",
      "j 10\n"
     ]
    }
   ],
   "source": [
    "### keyword arguments\n",
    "def print_numbers(**rajib):   \n",
    "    for i in rajib:\n",
    "        print(i,rajib[i])\n",
    "        \n",
    "print_numbers(a=1,b=2,c=3,d=4,e=5,f=6,g=7,h=8,i=9,j=10)  ## keyword arguments is taken as **kwargs"
   ]
  },
  {
   "cell_type": "code",
   "execution_count": 8,
   "id": "6ae4a92b",
   "metadata": {},
   "outputs": [
    {
     "name": "stdout",
     "output_type": "stream",
     "text": [
      "1\n",
      "2\n",
      "3\n",
      "4\n",
      "5\n",
      "6\n",
      "7\n",
      "8\n",
      "9\n",
      "10\n",
      "a 1\n",
      "b 2\n",
      "c 3\n",
      "d 4\n",
      "e 5\n",
      "f 6\n",
      "g 7\n",
      "h 8\n",
      "i 9\n",
      "j 10\n"
     ]
    }
   ],
   "source": [
    "### both the arguments\n",
    "def print_numbers(*rajib,**rajib1):   \n",
    "    for i in rajib:\n",
    "        print(i)\n",
    "    for i in rajib1:\n",
    "        print(i,rajib1[i])\n",
    "        \n",
    "print_numbers(1,2,3,4,5,6,7,8,9,10,a=1,b=2,c=3,d=4,e=5,f=6,g=7,h=8,i=9,j=10)  ## both positional and keyword arguments\n",
    "        "
   ]
  },
  {
   "cell_type": "code",
   "execution_count": 9,
   "id": "6a9e4d2d",
   "metadata": {},
   "outputs": [
    {
     "name": "stdout",
     "output_type": "stream",
     "text": [
      "(30, -10)\n"
     ]
    }
   ],
   "source": [
    "### return multiple parameters\n",
    "\n",
    "def add_sub(a,b):\n",
    "    return a+b,a-b\n",
    "\n",
    "result=add_sub(10,20)\n",
    "print(result)  # this will return tuple"
   ]
  },
  {
   "cell_type": "markdown",
   "id": "18af8349",
   "metadata": {},
   "source": [
    "#### Function examples"
   ]
  },
  {
   "cell_type": "markdown",
   "id": "efc8543c",
   "metadata": {},
   "source": [
    "Example 1.Temperature Conversion"
   ]
  },
  {
   "cell_type": "code",
   "execution_count": null,
   "id": "96447f75",
   "metadata": {},
   "outputs": [
    {
     "name": "stdout",
     "output_type": "stream",
     "text": [
      "37.77777777777778\n"
     ]
    }
   ],
   "source": [
    "def convert_temp(temp,unit):\n",
    "    if unit=='fer':\n",
    "        return fer_to_sel(temp),fer_to_kel(temp)\n",
    "    elif unit=='sel':\n",
    "        return sel_to_fer(temp),sel_to_kel(temp)\n",
    "    else:\n",
    "        print(\"Invalid unit\")\n",
    "temp=convert_temp(100,'fer')\n",
    "print(temp[0])"
   ]
  },
  {
   "cell_type": "markdown",
   "id": "51fad3c4",
   "metadata": {},
   "source": [
    "Example-2. Password strength checker "
   ]
  },
  {
   "cell_type": "code",
   "execution_count": null,
   "id": "853f4efa",
   "metadata": {},
   "outputs": [
    {
     "name": "stdout",
     "output_type": "stream",
     "text": [
      "True\n"
     ]
    }
   ],
   "source": [
    "def is_strong_password(password):\n",
    "    \"\"\"Check if the password is strong\"\"\"\n",
    "    if len(password) < 8:\n",
    "        return False\n",
    "    if not any(char.isdigit() for char in password):\n",
    "        return False\n",
    "    if not any(char.isalpha() for char in password):\n",
    "        return False\n",
    "    if not any(char.islower() for char in password):\n",
    "        return False\n",
    "    if not any(char.isupper() for char in password):\n",
    "        return False\n",
    "    if not any(char in \"!@#$%^&*()-_+=<>?{}[]|:;\\\"'`~\" for char in password):\n",
    "        return False\n",
    "    return True\n",
    "\n",
    "## call the function\n",
    "is_strong = is_strong_password(\"P@ssw0rd\")\n",
    "print(is_strong)  # Output: True"
   ]
  },
  {
   "cell_type": "markdown",
   "id": "35c0d66d",
   "metadata": {},
   "source": [
    "Example-3. Calculate the total Cost of items in a shopping cart"
   ]
  },
  {
   "cell_type": "code",
   "execution_count": 14,
   "id": "76c20872",
   "metadata": {},
   "outputs": [
    {
     "name": "stdout",
     "output_type": "stream",
     "text": [
      "Total cost: 7.699999999999999\n"
     ]
    }
   ],
   "source": [
    "def calculate_total_cost(cart):\n",
    "    total_cost=0\n",
    "    for item in cart:\n",
    "        total_cost+=item['price']*item['quantity']\n",
    "    return total_cost\n",
    "\n",
    "### Example of cart data\n",
    "\n",
    "cart=[\n",
    "    {'name': 'apple', 'price': 1.2, 'quantity': 3},\n",
    "    {'name': 'banana', 'price': 0.5, 'quantity': 5},\n",
    "    {'name': 'orange', 'price': 0.8, 'quantity': 2}\n",
    "]\n",
    "\n",
    "## call the function\n",
    "total_cost=calculate_total_cost(cart)\n",
    "print(\"Total cost:\", total_cost)  # Output: Total cost: 10.6"
   ]
  },
  {
   "cell_type": "markdown",
   "id": "f8c8ef45",
   "metadata": {},
   "source": [
    "Example-4 check if a string is palindrome"
   ]
  },
  {
   "cell_type": "code",
   "execution_count": null,
   "id": "991fa4b2",
   "metadata": {},
   "outputs": [
    {
     "name": "stdout",
     "output_type": "stream",
     "text": [
      "True\n"
     ]
    }
   ],
   "source": [
    "def is_palindrome(string):\n",
    "    \"\"\"Check if the string is a palindrome\"\"\"\n",
    "    string=string.lower().replace(\" \",\"\")\n",
    "    return string == string[::-1]\n",
    "\n",
    "### call the function\n",
    "result=is_palindrome(\"madam\")\n",
    "print(result)  # Output: True"
   ]
  },
  {
   "cell_type": "code",
   "execution_count": null,
   "id": "8ea5ddfc",
   "metadata": {},
   "outputs": [],
   "source": []
  }
 ],
 "metadata": {
  "kernelspec": {
   "display_name": "Python 3",
   "language": "python",
   "name": "python3"
  },
  "language_info": {
   "codemirror_mode": {
    "name": "ipython",
    "version": 3
   },
   "file_extension": ".py",
   "mimetype": "text/x-python",
   "name": "python",
   "nbconvert_exporter": "python",
   "pygments_lexer": "ipython3",
   "version": "3.12.9"
  }
 },
 "nbformat": 4,
 "nbformat_minor": 5
}

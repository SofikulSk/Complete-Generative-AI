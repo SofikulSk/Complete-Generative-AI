{
 "cells": [
  {
   "cell_type": "markdown",
   "id": "811d4e32",
   "metadata": {},
   "source": [
    "## Understanding Exceptions\n",
    "Exception handling in Python allows you to handle errors gracefully and take corrective actions without stopping the execution of the program. This lesson will cover the basics of exceptions, including how to use try, except, else, and finally blocks.\n",
    "\n",
    "### What Are Exceptions?\n",
    "Exceptions are events that disrupt the normal flow of a program. They occur when an error is encountered during program execution. Common exceptions include:\n",
    "\n",
    ".ZeroDivisionError: Dividing by zero.\n",
    "\n",
    ".FileNotFoundError: File not found.\n",
    "\n",
    ".ValueError: Invalid value.\n",
    "\n",
    ".TypeError:invalid type"
   ]
  },
  {
   "cell_type": "code",
   "execution_count": null,
   "id": "4b6150ba",
   "metadata": {},
   "outputs": [
    {
     "name": "stdout",
     "output_type": "stream",
     "text": [
      "The variable has not been defined yet\n"
     ]
    }
   ],
   "source": [
    "## a=b ##NameError: name 'b' is not defined\n",
    "## Exception try ,except, finally block\n",
    "\n",
    "try:\n",
    "    a=b\n",
    "except:\n",
    "    print(\"The variable has not been defined yet\")  ###good message for the end-user"
   ]
  },
  {
   "cell_type": "code",
   "execution_count": 7,
   "id": "0c114140",
   "metadata": {},
   "outputs": [
    {
     "name": "stdout",
     "output_type": "stream",
     "text": [
      "division by zero\n",
      "Division by zero is not allowed\n"
     ]
    }
   ],
   "source": [
    "try:\n",
    "    1/0\n",
    "except ZeroDivisionError as ex:\n",
    "    print(ex)\n",
    "    print(\"Division by zero is not allowed\")   "
   ]
  },
  {
   "cell_type": "code",
   "execution_count": null,
   "id": "9c99a249",
   "metadata": {},
   "outputs": [
    {
     "name": "stdout",
     "output_type": "stream",
     "text": [
      "name 'b' is not defined\n",
      "An error occurred\n"
     ]
    }
   ],
   "source": [
    "try:\n",
    "    result=1/2\n",
    "    a/b\n",
    "except ZeroDivisionError as ex:\n",
    "    print(ex)\n",
    "    print(\"Division by zero is not allowed\")    \n",
    "except Exception as ex1:  ### this is the parent class for all exceptions\n",
    "    print(\"An error occurred\")\n",
    "    print(ex1)\n",
    "    print(\"An error occurred\")    "
   ]
  },
  {
   "cell_type": "code",
   "execution_count": 11,
   "id": "a00f4928",
   "metadata": {},
   "outputs": [
    {
     "name": "stdout",
     "output_type": "stream",
     "text": [
      "division by zero\n",
      "Division by zero is not allowed\n"
     ]
    }
   ],
   "source": [
    "try:\n",
    "    num=int(input(\"Enter a number: \"))\n",
    "    result=1/num\n",
    "    print(\"The result is: \", result)\n",
    "except ValueError as ex:\n",
    "    print(ex)\n",
    "    print(\"Please enter a valid number\")\n",
    "except ZeroDivisionError as ex:\n",
    "    print(ex)\n",
    "    print(\"Division by zero is not allowed\")\n",
    "except Exception as ex:\n",
    "    print(\"An error occurred\")\n",
    "    print(ex)\n",
    "else:\n",
    "    print(\"No errors occurred\")\n",
    "    print(result)      "
   ]
  },
  {
   "cell_type": "code",
   "execution_count": null,
   "id": "9dfad4e4",
   "metadata": {},
   "outputs": [],
   "source": [
    "### try ,except ,else ,finally\n",
    "\n",
    "try:\n",
    "    num=int(input(\"Enter a number: \"))\n",
    "    result=1/num\n",
    "    print(\"The result is: \", result)\n",
    "except ValueError as ex:\n",
    "    print(ex)\n",
    "    print(\"Please enter a valid number\")\n",
    "except ZeroDivisionError as ex:\n",
    "    print(ex)\n",
    "    print(\"Division by zero is not allowed\")\n",
    "except Exception as ex:\n",
    "    print(\"An error occurred\")\n",
    "    print(ex)\n",
    "else:\n",
    "    print(\"No errors occurred\")\n",
    "    print(result)      \n",
    "finally:\n",
    "    print(\"Execution complete\")    \n",
    "    "
   ]
  }
 ],
 "metadata": {
  "kernelspec": {
   "display_name": "Python 3",
   "language": "python",
   "name": "python3"
  },
  "language_info": {
   "codemirror_mode": {
    "name": "ipython",
    "version": 3
   },
   "file_extension": ".py",
   "mimetype": "text/x-python",
   "name": "python",
   "nbconvert_exporter": "python",
   "pygments_lexer": "ipython3",
   "version": "3.12.9"
  }
 },
 "nbformat": 4,
 "nbformat_minor": 5
}

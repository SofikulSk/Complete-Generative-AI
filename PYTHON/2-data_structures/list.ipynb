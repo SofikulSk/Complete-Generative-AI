{
 "cells": [
  {
   "cell_type": "markdown",
   "id": "156ddccb",
   "metadata": {},
   "source": [
    "## Lists"
   ]
  },
  {
   "cell_type": "markdown",
   "id": "f8bf9099",
   "metadata": {},
   "source": [
    "#### Lists are ordered,mutable collections of items\n",
    "#### They can contain any data type, including other lists\n",
    "#### Lists are defined using square brackets []\n",
    "#### List items are separated by commas\n",
    "#### Lists are indexed starting at 0\n",
    "#### Lists can be sliced using the colon operator :\n",
    "#### Lists can be nested, meaning a list can contain other lists\n",
    "#### Lists can be concatenated using the + operator\n",
    "#### Lists can be repeated using the * operator"
   ]
  },
  {
   "cell_type": "code",
   "execution_count": 3,
   "id": "d312d84e",
   "metadata": {},
   "outputs": [
    {
     "name": "stdout",
     "output_type": "stream",
     "text": [
      "<class 'list'>\n"
     ]
    }
   ],
   "source": [
    "lst =[]\n",
    "print(type(lst))"
   ]
  },
  {
   "cell_type": "code",
   "execution_count": 4,
   "id": "75225362",
   "metadata": {},
   "outputs": [],
   "source": [
    "names=['rajib','sahim','ajim','rajen',21,21,22,20,'a','a','a','b',True,True,False,True]"
   ]
  },
  {
   "cell_type": "code",
   "execution_count": 7,
   "id": "0464feb0",
   "metadata": {},
   "outputs": [
    {
     "name": "stdout",
     "output_type": "stream",
     "text": [
      "rajib\n",
      "sahim\n",
      "ajim\n",
      "rajen\n",
      "21\n",
      "21\n",
      "22\n",
      "20\n",
      "a\n",
      "a\n",
      "a\n",
      "b\n",
      "True\n",
      "True\n",
      "False\n",
      "True\n"
     ]
    }
   ],
   "source": [
    "for i in names:\n",
    "    print(i)"
   ]
  },
  {
   "cell_type": "code",
   "execution_count": 8,
   "id": "fd33321c",
   "metadata": {},
   "outputs": [
    {
     "name": "stdout",
     "output_type": "stream",
     "text": [
      "['rajib', 'sahim', 'ajim', 'rajen', 21, 22, 20, 'a', 'b', True, False]\n"
     ]
    }
   ],
   "source": [
    "print(lst)"
   ]
  },
  {
   "cell_type": "code",
   "execution_count": 10,
   "id": "bf542250",
   "metadata": {},
   "outputs": [
    {
     "name": "stdout",
     "output_type": "stream",
     "text": [
      "sahim\n"
     ]
    }
   ],
   "source": [
    "names[0]='sahim'\n",
    "print(names[0])"
   ]
  },
  {
   "cell_type": "code",
   "execution_count": null,
   "id": "9d69ea2f",
   "metadata": {},
   "outputs": [
    {
     "name": "stdout",
     "output_type": "stream",
     "text": [
      "True\n"
     ]
    }
   ],
   "source": [
    "print(names[-1])  # the last element of the list"
   ]
  },
  {
   "cell_type": "code",
   "execution_count": 12,
   "id": "6c98c63d",
   "metadata": {},
   "outputs": [
    {
     "name": "stdout",
     "output_type": "stream",
     "text": [
      "['sahim', 'ajim', 'rajen', 21, 21, 22, 20, 'a', 'a', 'a', 'b', True, True, False, True]\n",
      "['sahim', 'ajim', 'rajen']\n"
     ]
    }
   ],
   "source": [
    "print(names[1:]) # from inex 1 to the end\n",
    "print(names[1:4]) # from index 1 to index 4 ,4 is not included"
   ]
  },
  {
   "cell_type": "markdown",
   "id": "801d32ec",
   "metadata": {},
   "source": [
    "# List methods"
   ]
  },
  {
   "cell_type": "code",
   "execution_count": 2,
   "id": "73f6920f",
   "metadata": {},
   "outputs": [
    {
     "name": "stdout",
     "output_type": "stream",
     "text": [
      "['banana', 'apple', 'orange', 'mango']\n"
     ]
    }
   ],
   "source": [
    "fruits=['banana','apple','orange','mango']\n",
    "print(fruits)"
   ]
  },
  {
   "cell_type": "code",
   "execution_count": null,
   "id": "1753395c",
   "metadata": {},
   "outputs": [
    {
     "name": "stdout",
     "output_type": "stream",
     "text": [
      "['banana', 'apple', 'orange', 'mango', 'grape']\n"
     ]
    }
   ],
   "source": [
    "## append() method\n",
    "# add an item to the end of the list\n",
    "fruits.append('grape') # add grape to the end of the list\n",
    "print(fruits)"
   ]
  },
  {
   "cell_type": "code",
   "execution_count": 4,
   "id": "459950ce",
   "metadata": {},
   "outputs": [
    {
     "name": "stdout",
     "output_type": "stream",
     "text": [
      "['banana', 'apple', 'kiwi', 'orange', 'mango', 'grape']\n"
     ]
    }
   ],
   "source": [
    "## insert() method\n",
    "# add an item at a specific index\n",
    "fruits.insert(2,'kiwi') # add kiwi at index 2\n",
    "print(fruits)"
   ]
  },
  {
   "cell_type": "code",
   "execution_count": 8,
   "id": "5c918ff4",
   "metadata": {},
   "outputs": [
    {
     "name": "stdout",
     "output_type": "stream",
     "text": [
      "['banana', 'kiwi', 'mango', 'grape']\n"
     ]
    }
   ],
   "source": [
    "## remove() method  \n",
    "#removing the first occurrence of a value\n",
    "fruits.remove('orange') # remove apple from the list\n",
    "print(fruits) "
   ]
  },
  {
   "cell_type": "code",
   "execution_count": 13,
   "id": "9e18ef8e",
   "metadata": {},
   "outputs": [
    {
     "name": "stdout",
     "output_type": "stream",
     "text": [
      "['banana', 'banana', 'banana', 'watermelon', 'sapota', 'apple', 'muskmelon']\n"
     ]
    }
   ],
   "source": [
    "fruits.append('banana')\n",
    "fruits.append('banana')\n",
    "fruits.append('watermelon')\n",
    "fruits.append('sapota')\n",
    "fruits.append('apple')\n",
    "fruits.append('muskmelon')\n",
    "print(fruits)"
   ]
  },
  {
   "cell_type": "code",
   "execution_count": null,
   "id": "c2a19a48",
   "metadata": {},
   "outputs": [
    {
     "name": "stdout",
     "output_type": "stream",
     "text": [
      "['banana', 'banana', 'watermelon', 'sapota', 'apple']\n"
     ]
    }
   ],
   "source": [
    "## pop() method\n",
    "# remove the item at the specified index and return it\n",
    "#if the index is not specified, the last item is removed and returned\n",
    "fruits.pop() # remove the last item from the list\n",
    "fruits.pop(1) # remove the item at index 2\n",
    "print(fruits) # remove the item at index 2"
   ]
  },
  {
   "cell_type": "code",
   "execution_count": 15,
   "id": "a02f0ac1",
   "metadata": {},
   "outputs": [
    {
     "name": "stdout",
     "output_type": "stream",
     "text": [
      "0\n"
     ]
    }
   ],
   "source": [
    "## index() method\n",
    "# return the index of the first occurrence of a value\n",
    "# if the value is not found, it raises a ValueError\n",
    "fruits.index('banana') # return the index of the first occurrence of banana\n",
    "print(fruits.index('banana')) # return the index of the first occurrence of banana"
   ]
  },
  {
   "cell_type": "code",
   "execution_count": 16,
   "id": "de43cf88",
   "metadata": {},
   "outputs": [
    {
     "name": "stdout",
     "output_type": "stream",
     "text": [
      "2\n"
     ]
    }
   ],
   "source": [
    "## count() method\n",
    "# return the number of occurrences of a value in the list\n",
    "# if the value is not found, it returns 0\n",
    "fruits.count('banana') # return the number of occurrences of banana\n",
    "print(fruits.count('banana')) # return the number of occurrences of banana"
   ]
  },
  {
   "cell_type": "code",
   "execution_count": 17,
   "id": "60c96047",
   "metadata": {},
   "outputs": [
    {
     "name": "stdout",
     "output_type": "stream",
     "text": [
      "['apple', 'banana', 'banana', 'sapota', 'watermelon']\n"
     ]
    }
   ],
   "source": [
    "## sort() method\n",
    "# sort the list in ascending order\n",
    "# if the list contains mixed data types, it raises a TypeError\n",
    "# if the list is empty, it does nothing\n",
    "fruits.sort() # sort the list in ascending order\n",
    "print(fruits) # sort the list in ascending order"
   ]
  },
  {
   "cell_type": "code",
   "execution_count": 18,
   "id": "8a44bd87",
   "metadata": {},
   "outputs": [
    {
     "name": "stdout",
     "output_type": "stream",
     "text": [
      "['watermelon', 'sapota', 'banana', 'banana', 'apple']\n"
     ]
    }
   ],
   "source": [
    "## reverse() method\n",
    "# reverse the order of the list\n",
    "# if the list is empty, it does nothing\n",
    "# if the list contains mixed data types, it raises a TypeError\n",
    "fruits.reverse() # reverse the order of the list    \n",
    "print(fruits) # reverse the order of the list"
   ]
  },
  {
   "cell_type": "code",
   "execution_count": 20,
   "id": "f34cbbf1",
   "metadata": {},
   "outputs": [
    {
     "name": "stdout",
     "output_type": "stream",
     "text": [
      "[]\n"
     ]
    }
   ],
   "source": [
    "## clear() method\n",
    "# remove all items from the list\n",
    "# if the list is empty, it does nothing\n",
    "# if the list contains mixed data types, it raises a TypeError\n",
    "fruits.clear() # remove all items from the list\n",
    "print(fruits) # remove all items from the list"
   ]
  },
  {
   "cell_type": "markdown",
   "id": "65cf9cae",
   "metadata": {},
   "source": [
    "#### Slicicing list"
   ]
  },
  {
   "cell_type": "code",
   "execution_count": 21,
   "id": "cefcb384",
   "metadata": {},
   "outputs": [
    {
     "name": "stdout",
     "output_type": "stream",
     "text": [
      "[1, 2, 3, 4, 5, 6, 7, 8, 9, 10]\n"
     ]
    }
   ],
   "source": [
    "numbers=[1,2,3,4,5,6,7,8,9,10]\n",
    "print(numbers)"
   ]
  },
  {
   "cell_type": "code",
   "execution_count": 22,
   "id": "c357da65",
   "metadata": {},
   "outputs": [
    {
     "name": "stdout",
     "output_type": "stream",
     "text": [
      "[1, 2, 3, 4, 5]\n",
      "[6, 7, 8, 9, 10]\n",
      "[1, 2, 3, 4, 5]\n",
      "[1, 3, 5, 7, 9]\n",
      "[2, 4, 6, 8, 10]\n",
      "[10, 9, 8, 7, 6, 5, 4, 3, 2, 1]\n",
      "[10, 8, 6, 4, 2]\n",
      "10\n",
      "9\n",
      "8\n"
     ]
    }
   ],
   "source": [
    "print(numbers[0:5]) # from index 0 to index 5, 5 is not included\n",
    "print(numbers[5:]) # from index 5 to the end    \n",
    "print(numbers[:5]) # from the beginning to index 5, 5 is not included\n",
    "print(numbers[::2]) # from the beginning to the end, step 2\n",
    "print(numbers[1::2]) # from the beginning to the end, step 2\n",
    "print(numbers[::-1]) # from the end to the beginning, step -1\n",
    "print(numbers[::-2]) # from the end to the beginning, step -2\n",
    "print(numbers[-1]) # the last element of the list\n",
    "print(numbers[-2]) # the second last element of the list\n",
    "print(numbers[-3]) # the third last element of the list\n"
   ]
  },
  {
   "cell_type": "code",
   "execution_count": 23,
   "id": "a2eb981a",
   "metadata": {},
   "outputs": [
    {
     "name": "stdout",
     "output_type": "stream",
     "text": [
      "1\n",
      "2\n",
      "3\n",
      "4\n",
      "5\n",
      "6\n",
      "7\n",
      "8\n",
      "9\n",
      "10\n"
     ]
    }
   ],
   "source": [
    "## itreting over a list\n",
    "\n",
    "for i in numbers:\n",
    "    print(i) # print each element of the list"
   ]
  },
  {
   "cell_type": "code",
   "execution_count": 25,
   "id": "ecf9a88a",
   "metadata": {},
   "outputs": [
    {
     "name": "stdout",
     "output_type": "stream",
     "text": [
      "0 1\n",
      "1 2\n",
      "2 3\n",
      "3 4\n",
      "4 5\n",
      "5 6\n",
      "6 7\n",
      "7 8\n",
      "8 9\n",
      "9 10\n"
     ]
    }
   ],
   "source": [
    "## if we want to print the index and the value of each element of the list\n",
    "for index, value in enumerate(numbers):\n",
    "    print(index, value) # print the index and the value of each element of the list\n"
   ]
  },
  {
   "cell_type": "code",
   "execution_count": 26,
   "id": "fcefbc80",
   "metadata": {},
   "outputs": [
    {
     "name": "stdout",
     "output_type": "stream",
     "text": [
      "0 10\n",
      "1 9\n",
      "2 8\n",
      "3 7\n",
      "4 6\n",
      "5 5\n",
      "6 4\n",
      "7 3\n",
      "8 2\n",
      "9 1\n"
     ]
    }
   ],
   "source": [
    "## if we want to print the index and the value of each element of the list in reverse order\n",
    "for index, value in enumerate(reversed(numbers)):\n",
    "    print(index, value) # print the index and the value of each element of the list in reverse order"
   ]
  },
  {
   "cell_type": "code",
   "execution_count": null,
   "id": "cb2de7f3",
   "metadata": {},
   "outputs": [
    {
     "name": "stdout",
     "output_type": "stream",
     "text": [
      "[1, 4, 9, 16, 25, 36, 49, 64, 81, 100]\n"
     ]
    }
   ],
   "source": [
    "## List comprehension\n",
    "# create a new list with the square of each element of the list\n",
    "squares = [x**2 for x in numbers] # create a new list with the square of each element of the list\n",
    "print(squares) # print the new list with the square of each element of the list\n",
    "\n",
    "## [output operation]\n",
    "## [x**2 for x in numbers] single line operation"
   ]
  },
  {
   "cell_type": "markdown",
   "id": "ebf772d0",
   "metadata": {},
   "source": [
    "### List comperihension \n",
    "\n",
    "#### basic syntax [expression for item in iteretable]\n",
    "\n",
    "#### with conditional logic [expression for item in iteretable if condition]"
   ]
  },
  {
   "cell_type": "markdown",
   "id": "db7a234f",
   "metadata": {},
   "source": [
    "##### List comprehensions are a powerful and concise way to create lists in Python. They are syntactically compact and can replace more verbose looping constructs. Understanding the syntax of list comprehensions will help you write cleaner and more efficient Python code."
   ]
  },
  {
   "cell_type": "code",
   "execution_count": 28,
   "id": "c07e411d",
   "metadata": {},
   "outputs": [
    {
     "name": "stdout",
     "output_type": "stream",
     "text": [
      "[1, 4, 9, 16, 25, 36, 49, 64, 81, 100]\n"
     ]
    }
   ],
   "source": [
    "### basic list comperhension\n",
    " \n",
    "squares = [x**2 for x in numbers] # create a new list with the square of each element of the list\n",
    "print(squares) # print the new list with the square of each element of the list"
   ]
  },
  {
   "cell_type": "code",
   "execution_count": 29,
   "id": "642cf5d8",
   "metadata": {},
   "outputs": [
    {
     "name": "stdout",
     "output_type": "stream",
     "text": [
      "[2, 4, 6, 8, 10]\n"
     ]
    }
   ],
   "source": [
    "### List comprehension with if condition\n",
    "evens = [x for x in numbers if x % 2 == 0] # create a new list with the even numbers of the list\n",
    "print(evens) # print the new list with the even numbers of the list "
   ]
  },
  {
   "cell_type": "code",
   "execution_count": 31,
   "id": "a5314042",
   "metadata": {},
   "outputs": [
    {
     "name": "stdout",
     "output_type": "stream",
     "text": [
      "[[0, 1, 4, 9, 16], [0, 1, 4, 9, 16], [0, 1, 4, 9, 16]]\n",
      "[(1, 'a'), (1, 'b'), (1, 'c'), (1, 'd'), (2, 'a'), (2, 'b'), (2, 'c'), (2, 'd'), (3, 'a'), (3, 'b'), (3, 'c'), (3, 'd'), (4, 'a'), (4, 'b'), (4, 'c'), (4, 'd')]\n"
     ]
    }
   ],
   "source": [
    "### Nested list comprehension\n",
    "# create a new list with the square of each element of the list\n",
    "nested_squares = [[x**2 for x in range(5)] for y in range(3)] # create a new list with the square of each element of the list\n",
    "print(nested_squares) # print the new list with the square of each element of the list\n",
    "\n",
    "### Another example of nested list comprehension\n",
    "\n",
    "list1=[1,2,3,4]\n",
    "list2=['a','b','c','d']\n",
    "\n",
    "nested_list = [(x,y) for x in list1 for y in list2] # create a new list with the square of each element of the list\n",
    "print(nested_list) # print the new list with the square of each element of the list"
   ]
  },
  {
   "cell_type": "code",
   "execution_count": 32,
   "id": "1ded8506",
   "metadata": {},
   "outputs": [
    {
     "name": "stdout",
     "output_type": "stream",
     "text": [
      "[5, 5, 6, 11]\n"
     ]
    }
   ],
   "source": [
    "### List with function call\n",
    "words=['hello','world','python','programming']\n",
    "lengths = [len(word) for word in words] # create a new list with the length of each element of the list\n",
    "print(lengths) # print the new list with the length of each element of the list"
   ]
  },
  {
   "cell_type": "markdown",
   "id": "34f9735f",
   "metadata": {},
   "source": [
    "## Tuples"
   ]
  },
  {
   "cell_type": "markdown",
   "id": "dc655fd9",
   "metadata": {},
   "source": [
    "#### Tuples are ordered collections of items that are immutable. They are similar to lists, but their immutability makes them different."
   ]
  },
  {
   "cell_type": "code",
   "execution_count": 33,
   "id": "c7350059",
   "metadata": {},
   "outputs": [
    {
     "name": "stdout",
     "output_type": "stream",
     "text": [
      "<class 'tuple'>\n",
      "()\n"
     ]
    }
   ],
   "source": [
    "### Creating a tuple\n",
    "\n",
    "empty_tuple=()\n",
    "print(type(empty_tuple)) # print the type of the empty tuple\n",
    "print(empty_tuple) # print the empty tuple"
   ]
  },
  {
   "cell_type": "code",
   "execution_count": null,
   "id": "99fe54fa",
   "metadata": {},
   "outputs": [
    {
     "name": "stdout",
     "output_type": "stream",
     "text": [
      "<class 'list'>\n",
      "[]\n",
      "<class 'tuple'>\n",
      "()\n"
     ]
    }
   ],
   "source": [
    "lst=list()   ###list() is a built-in function that creates an empty list\n",
    "print(type(lst)) # print the type of the empty list\n",
    "print(lst) # print the empty list\n",
    "tpl=tuple()  ###tuple() is a built-in function that creates an empty tuple\n",
    "print(type(tpl)) # print the type of the empty tuple\n",
    "print(tpl) # print the empty tuple"
   ]
  },
  {
   "cell_type": "code",
   "execution_count": 38,
   "id": "c2b2bf81",
   "metadata": {},
   "outputs": [
    {
     "data": {
      "text/plain": [
       "tuple"
      ]
     },
     "execution_count": 38,
     "metadata": {},
     "output_type": "execute_result"
    }
   ],
   "source": [
    "numbers=tuple([1,2,3,4,5,6])\n",
    "numbers\n",
    "type(numbers) # print the type of the tuple"
   ]
  },
  {
   "cell_type": "code",
   "execution_count": 39,
   "id": "2c7cfe6e",
   "metadata": {},
   "outputs": [
    {
     "name": "stdout",
     "output_type": "stream",
     "text": [
      "<class 'list'>\n"
     ]
    }
   ],
   "source": [
    "list((1,2,3,4,5,6)) # convert the tuple to a list\n",
    "print(type(list((1,2,3,4,5,6)))) # print the type of the list"
   ]
  },
  {
   "cell_type": "code",
   "execution_count": 42,
   "id": "a9f796bf",
   "metadata": {},
   "outputs": [
    {
     "data": {
      "text/plain": [
       "6"
      ]
     },
     "execution_count": 42,
     "metadata": {},
     "output_type": "execute_result"
    }
   ],
   "source": [
    "##Accessing tuple elements\n",
    "numbers[0] # access the first element of the tuple\n",
    "numbers[-1] # access the last element of the tuple"
   ]
  },
  {
   "cell_type": "code",
   "execution_count": 43,
   "id": "8acd2025",
   "metadata": {},
   "outputs": [
    {
     "data": {
      "text/plain": [
       "(2, 3, 4)"
      ]
     },
     "execution_count": 43,
     "metadata": {},
     "output_type": "execute_result"
    }
   ],
   "source": [
    "numbers[1:4] # access the elements from index 1 to index 4, 4 is not included   "
   ]
  },
  {
   "cell_type": "code",
   "execution_count": 44,
   "id": "276dcb33",
   "metadata": {},
   "outputs": [
    {
     "data": {
      "text/plain": [
       "(2, 3, 4)"
      ]
     },
     "execution_count": 44,
     "metadata": {},
     "output_type": "execute_result"
    }
   ],
   "source": [
    "numbers[1:4] # access the elements from index 1 to index 4, 4 is not included"
   ]
  },
  {
   "cell_type": "code",
   "execution_count": 46,
   "id": "44cadbf6",
   "metadata": {},
   "outputs": [
    {
     "name": "stdout",
     "output_type": "stream",
     "text": [
      "(1, 2, 3, 4, 5, 6, 'a', 'b', 'c', 'd', True, False)\n"
     ]
    }
   ],
   "source": [
    "### Tuple oparations\n",
    "numbers1=(1,2,3,4,5,6)\n",
    "mixed_tuple=('a','b','c','d',True,False)\n",
    "\n",
    "concatenated_tuple=numbers1+mixed_tuple # concatenate the two tuples\n",
    "print(concatenated_tuple) # print the concatenated tuple"
   ]
  },
  {
   "cell_type": "code",
   "execution_count": 47,
   "id": "1f8ff4df",
   "metadata": {},
   "outputs": [
    {
     "name": "stdout",
     "output_type": "stream",
     "text": [
      "('a', 'b', 'c', 'd', True, False, 'a', 'b', 'c', 'd', True, False)\n"
     ]
    }
   ],
   "source": [
    "mixed_tuple*2 # repeat the tuple 2 times\n",
    "print(mixed_tuple*2) # print the repeated tuple"
   ]
  },
  {
   "cell_type": "code",
   "execution_count": 49,
   "id": "415016b5",
   "metadata": {},
   "outputs": [],
   "source": [
    "### Immutable nature of tuple\n",
    "# tuples are immutable, we cannot change the elements of the tuple\n",
    "# numbers1[0]=10 # this will raise a TypeError\n",
    "# print(numbers1) # print the tuple\n",
    "\n",
    "## numbers[2]='jbj'\n",
    "## print(numbers) # print the tuple"
   ]
  },
  {
   "cell_type": "code",
   "execution_count": 50,
   "id": "4d6e5aa9",
   "metadata": {},
   "outputs": [
    {
     "name": "stdout",
     "output_type": "stream",
     "text": [
      "1\n"
     ]
    }
   ],
   "source": [
    "## Tuple methods\n",
    "# count() method\n",
    "# return the number of occurrences of a value in the tuple\n",
    "# if the value is not found, it returns 0\n",
    "numbers1.count(2) # return the number of occurrences of 2 in the tuple  \n",
    "print(numbers1.count(2)) # return the number of occurrences of 2 in the tuple"
   ]
  },
  {
   "cell_type": "code",
   "execution_count": 51,
   "id": "eff9114a",
   "metadata": {},
   "outputs": [
    {
     "name": "stdout",
     "output_type": "stream",
     "text": [
      "1\n"
     ]
    }
   ],
   "source": [
    "## index() method\n",
    "# return the index of the first occurrence of a value in the tuple\n",
    "# if the value is not found, it raises a ValueError\n",
    "numbers1.index(2) # return the index of the first occurrence of 2 in the tuple\n",
    "print(numbers1.index(2)) # return the index of the first occurrence of 2 in the tuple"
   ]
  },
  {
   "cell_type": "code",
   "execution_count": 52,
   "id": "b70c9408",
   "metadata": {},
   "outputs": [
    {
     "name": "stdout",
     "output_type": "stream",
     "text": [
      "(1, 2, 3, 4, 5)\n",
      "1\n"
     ]
    }
   ],
   "source": [
    "## Packing and Unpacking\n",
    "# packing a tuple\n",
    "packed_tuple = (1,2,3,4,5) # packing a tuple\n",
    "print(packed_tuple) # print the packed tuple\n",
    "\n",
    "# unpacking a tuple\n",
    "a,b,c,d,e = packed_tuple # unpacking a tuple\n",
    "print(a) # print the first element of the tuple"
   ]
  },
  {
   "cell_type": "code",
   "execution_count": 53,
   "id": "c64bc5bc",
   "metadata": {},
   "outputs": [
    {
     "name": "stdout",
     "output_type": "stream",
     "text": [
      "1\n",
      "2\n",
      "[3, 4, 5]\n"
     ]
    }
   ],
   "source": [
    "### unpacking a tuple with * operator\n",
    "a,b,*c = packed_tuple # unpacking a tuple with * operator\n",
    "print(a) # print the first element of the tuple \n",
    "print(b) # print the second element of the tuple\n",
    "print(c) # print the third element of the tuple"
   ]
  },
  {
   "cell_type": "code",
   "execution_count": 54,
   "id": "a5eb702e",
   "metadata": {},
   "outputs": [
    {
     "name": "stdout",
     "output_type": "stream",
     "text": [
      "((1, 2, 3), (4, 5, 6), (7, 8, 9))\n",
      "(1, 2, 3)\n"
     ]
    }
   ],
   "source": [
    "## Nested tuple\n",
    "nested_tuple = ((1,2,3),(4,5,6),(7,8,9)) # create a nested tuple\n",
    "print(nested_tuple) # print the nested tuple\n",
    "print(nested_tuple[0]) # print the first element of the nested tuple"
   ]
  },
  {
   "cell_type": "code",
   "execution_count": 55,
   "id": "596250c1",
   "metadata": {},
   "outputs": [
    {
     "name": "stdout",
     "output_type": "stream",
     "text": [
      "(1, 2, 3)\n",
      "(4, 5, 6)\n",
      "(7, 8, 9)\n"
     ]
    }
   ],
   "source": [
    "## iterating over a tuple\n",
    "for i in nested_tuple:\n",
    "    print(i) # print each element of the nested tuple"
   ]
  },
  {
   "cell_type": "markdown",
   "id": "f3753ffb",
   "metadata": {},
   "source": [
    "#### Conclusion\n",
    "\n",
    "Tuples are versatile and useful in many real-world scenarios where an immutable and ordered collection of items is required. They are commonly used in data structures, function arguments and return values, and as dictionary keys. Understanding how to leverage tuples effectively can improve the efficiency and readability of your Python code."
   ]
  },
  {
   "cell_type": "markdown",
   "id": "8c730566",
   "metadata": {},
   "source": [
    "## Dictionaries"
   ]
  },
  {
   "cell_type": "markdown",
   "id": "2de4ef59",
   "metadata": {},
   "source": [
    "#### Introduction to Dictionaries\n",
    "Dictionaries are unordered collections of items. They store data in key-value pairs. Keys must be unique and immutable (e.g., strings, numbers, or tuples), while values can be of any type."
   ]
  },
  {
   "cell_type": "code",
   "execution_count": 56,
   "id": "5bd8f7c0",
   "metadata": {},
   "outputs": [
    {
     "name": "stdout",
     "output_type": "stream",
     "text": [
      "<class 'dict'>\n",
      "{}\n"
     ]
    }
   ],
   "source": [
    "### creating dictionary\n",
    "empty_dict={} # create an empty dictionary\n",
    "print(type(empty_dict)) # print the type of the empty dictionary    \n",
    "print(empty_dict) # print the empty dictionary"
   ]
  },
  {
   "cell_type": "code",
   "execution_count": 57,
   "id": "b52d7bea",
   "metadata": {},
   "outputs": [
    {
     "name": "stdout",
     "output_type": "stream",
     "text": [
      "<class 'dict'>\n",
      "{}\n"
     ]
    }
   ],
   "source": [
    "empty_dict=dict() # create an empty dictionary\n",
    "print(type(empty_dict)) # print the type of the empty dictionary\n",
    "print(empty_dict) # print the empty dictionary"
   ]
  },
  {
   "cell_type": "code",
   "execution_count": 58,
   "id": "d01f19a4",
   "metadata": {},
   "outputs": [
    {
     "name": "stdout",
     "output_type": "stream",
     "text": [
      "{'name': 'rajib', 'age': 32, 'grade': 'A'}\n",
      "<class 'dict'>\n"
     ]
    }
   ],
   "source": [
    "student={'name':'rajib','age':32,'grade':'A'}\n",
    "print(student) # print the dictionary\n",
    "print(type(student)) # print the type of the dictionary"
   ]
  },
  {
   "cell_type": "code",
   "execution_count": null,
   "id": "09f86055",
   "metadata": {},
   "outputs": [],
   "source": [
    "### Error :key cant have same value\n",
    "# student['rajib'] # this will raise a KeyError\n",
    "# print(student['rajib']) # this will raise a KeyError\n"
   ]
  },
  {
   "cell_type": "code",
   "execution_count": 59,
   "id": "194b99aa",
   "metadata": {},
   "outputs": [
    {
     "name": "stdout",
     "output_type": "stream",
     "text": [
      "rajib\n",
      "32\n",
      "A\n"
     ]
    }
   ],
   "source": [
    "### accessing dictionary elements\n",
    "print(student['name']) # access the value of the key 'name'\n",
    "print(student['age']) # access the value of the key 'age'\n",
    "print(student['grade']) # access the value of the key 'grade'"
   ]
  },
  {
   "cell_type": "code",
   "execution_count": 61,
   "id": "eaa4ce70",
   "metadata": {},
   "outputs": [
    {
     "name": "stdout",
     "output_type": "stream",
     "text": [
      "rajib\n",
      "32\n",
      "None\n"
     ]
    }
   ],
   "source": [
    "## Assigning using get() method\n",
    "print(student.get('name')) # access the value of the key 'name'\n",
    "print(student.get('age')) # access the value of the key 'age'\n",
    "print(student.get('last_name')) # access the value of the key 'grade'"
   ]
  },
  {
   "cell_type": "code",
   "execution_count": 67,
   "id": "f58ccc1f",
   "metadata": {},
   "outputs": [
    {
     "name": "stdout",
     "output_type": "stream",
     "text": [
      "{'name': 'sahim', 'age': 32, 'grade': 'A', 'address': 'bangalore'}\n",
      "{'name': 'sahim', 'age': 32, 'grade': 'A', 'address': 'bangalore'}\n"
     ]
    }
   ],
   "source": [
    "## modifying dictionary elements\n",
    "### dictionary are mutable, we can change the values of the keys\n",
    "student['name']='sahim' # change the value of the key 'name'\n",
    "print(student) # print the dictionary with the modified value of the key 'name'\n",
    "\n",
    "student['address']='bangalore' \n",
    "\n",
    "print(student) # print the dictionary with the modified value of the key 'name'\n"
   ]
  },
  {
   "cell_type": "code",
   "execution_count": 68,
   "id": "e7394176",
   "metadata": {},
   "outputs": [
    {
     "name": "stdout",
     "output_type": "stream",
     "text": [
      "{'name': 'sahim', 'age': 32, 'grade': 'A', 'address': 'kolkata'}\n",
      "{'name': 'sahim', 'age': 32, 'grade': 'A'}\n"
     ]
    }
   ],
   "source": [
    "student['address']='kolkata' # change the value of the key 'address'\n",
    "print(student) # print the dictionary with the modified value of the key 'address'\n",
    " \n",
    "del student['address'] # delete the key 'address' from the dictionary\n",
    "print(student) # print the dictionary with the deleted key 'address'"
   ]
  },
  {
   "cell_type": "code",
   "execution_count": 70,
   "id": "bb121d3a",
   "metadata": {},
   "outputs": [
    {
     "name": "stdout",
     "output_type": "stream",
     "text": [
      "dict_keys(['name', 'age', 'grade'])\n",
      "dict_values(['sahim', 32, 'A'])\n",
      "dict_items([('name', 'sahim'), ('age', 32), ('grade', 'A')])\n"
     ]
    }
   ],
   "source": [
    "### Dictionary methods\n",
    "# keys() method\n",
    "# return a list of the keys in the dictionary\n",
    "print(student.keys()) # return a list of the keys in the dictionary\n",
    "# values() method   \n",
    "# return a list of the values in the dictionary\n",
    "print(student.values()) # return a list of the values in the dictionary\n",
    "\n",
    "## items() method\n",
    "# return a list of the key-value pairs in the dictionary\n",
    "print(student.items()) # return a list of the key-value pairs in the dictionary\n"
   ]
  },
  {
   "cell_type": "code",
   "execution_count": 71,
   "id": "2c3aa641",
   "metadata": {},
   "outputs": [
    {
     "name": "stdout",
     "output_type": "stream",
     "text": [
      "{'name': 'sahim', 'age': 32, 'grade': 'A'}\n",
      "{'name': 'sahim', 'age': 32, 'grade': 'A'}\n",
      "False\n"
     ]
    }
   ],
   "source": [
    "## shallow copy\n",
    "# copy() method\n",
    "# return a shallow copy of the dictionary\n",
    "shallow_copy = student.copy() # return a shallow copy of the dictionary\n",
    "print(shallow_copy) # print the shallow copy of the dictionary\n",
    "print(student) # print the original dictionary\n",
    "print(shallow_copy is student) # check if the shallow copy is the same as the original dictionary   "
   ]
  },
  {
   "cell_type": "code",
   "execution_count": null,
   "id": "dd61bdc2",
   "metadata": {},
   "outputs": [
    {
     "name": "stdout",
     "output_type": "stream",
     "text": [
      "name\n",
      "age\n",
      "grade\n",
      "sahim\n",
      "32\n",
      "A\n",
      "name sahim\n",
      "age 32\n",
      "grade A\n",
      "0 name sahim\n",
      "1 age 32\n",
      "2 grade A\n",
      "0 grade A\n",
      "1 age 32\n",
      "2 name sahim\n"
     ]
    }
   ],
   "source": [
    "### itrating over a dictionary\n",
    "for key in student:\n",
    "    print(key) # print each key of the dictionary\n",
    "    \n",
    "    \n",
    "for value in student.values():\n",
    "    print(value) # print each value of the dictionary\n",
    "    \n",
    "    \n",
    "for key, value in student.items():\n",
    "    print(key, value) # print each key-value pair of the dictionary\n",
    "\n",
    "\n",
    "for index, (key, value) in enumerate(student.items()):\n",
    "    print(index, key, value) # print the index, key, and value of each key-value pair of the dictionary\n",
    "\n",
    "\n",
    "for index, (key, value) in enumerate(reversed(student.items())):\n",
    "    print(index, key, value) # print the index, key, and value of each key-value pair of the dictionary in reverse order\n",
    "    "
   ]
  },
  {
   "cell_type": "code",
   "execution_count": null,
   "id": "d48035ee",
   "metadata": {},
   "outputs": [],
   "source": []
  }
 ],
 "metadata": {
  "kernelspec": {
   "display_name": "Python 3",
   "language": "python",
   "name": "python3"
  },
  "language_info": {
   "codemirror_mode": {
    "name": "ipython",
    "version": 3
   },
   "file_extension": ".py",
   "mimetype": "text/x-python",
   "name": "python",
   "nbconvert_exporter": "python",
   "pygments_lexer": "ipython3",
   "version": "3.12.9"
  }
 },
 "nbformat": 4,
 "nbformat_minor": 5
}

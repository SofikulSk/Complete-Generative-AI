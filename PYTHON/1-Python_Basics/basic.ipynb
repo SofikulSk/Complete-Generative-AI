{
 "cells": [
  {
   "cell_type": "markdown",
   "id": "83279d53",
   "metadata": {},
   "source": [
    "### Syntax"
   ]
  },
  {
   "cell_type": "markdown",
   "id": "dd2decf7",
   "metadata": {},
   "source": [
    "#### Syntax refers to the set of rules that defines the combinations of symbols that are considered to be correctly structured programs in a language. In simpler terms, syntax is about the correct arrangement of words and symbols in a code"
   ]
  },
  {
   "cell_type": "markdown",
   "id": "c272a835",
   "metadata": {},
   "source": [
    "### Semantics"
   ]
  },
  {
   "cell_type": "markdown",
   "id": "111b79d4",
   "metadata": {},
   "source": [
    "#### Semantics refers to the meaning or the interpretation of the symbols, characters, and commands in a language. It is about what the code is supposed to do when it runs."
   ]
  },
  {
   "cell_type": "code",
   "execution_count": 3,
   "id": "f2bf41bc",
   "metadata": {},
   "outputs": [
    {
     "name": "stdout",
     "output_type": "stream",
     "text": [
      "Rajib sk\n",
      "Sofikul sk\n"
     ]
    }
   ],
   "source": [
    "## Case sensitivity: python is case sensitive\n",
    "name=\"Rajib sk\"\n",
    "Name=\"Sofikul sk\"\n",
    "\n",
    "print(name)\n",
    "print(Name)"
   ]
  },
  {
   "cell_type": "markdown",
   "id": "c89c2933",
   "metadata": {},
   "source": [
    "### Indentation\n",
    "#### Indentation in Python is used to define the structure and hierarchy of the code. Unlike many other programming languages that use braces {} to delimit blocks of code, Python uses indentation to determine the grouping of statements. This means that all the statements within a block must be indented at the same level.\n",
    "\n",
    "\n",
    "#### python uses indentation to define blocks of code. Consistent use of spaces (Commonly) or a tab is required"
   ]
  },
  {
   "cell_type": "code",
   "execution_count": 7,
   "id": "0c65b728",
   "metadata": {},
   "outputs": [
    {
     "name": "stdout",
     "output_type": "stream",
     "text": [
      "Age is greater than 30\n",
      "32\n"
     ]
    }
   ],
   "source": [
    "# indentation\n",
    "age=32\n",
    "if age>30:\n",
    "    print(\"Age is greater than 30\")\n",
    "else:\n",
    "    print(\"Age is less than 30\")\n",
    "    \n",
    "    \n",
    "print(age)"
   ]
  },
  {
   "cell_type": "code",
   "execution_count": 8,
   "id": "397372b7",
   "metadata": {},
   "outputs": [
    {
     "name": "stdout",
     "output_type": "stream",
     "text": [
      "585\n"
     ]
    }
   ],
   "source": [
    "# Line Continuation\n",
    "total=1+2+3+4+5+6+7+8+9+20+\\\n",
    "    30+40+50+60+70+80+90+100\n",
    "print(total)"
   ]
  },
  {
   "cell_type": "code",
   "execution_count": 9,
   "id": "d837a4e0",
   "metadata": {},
   "outputs": [
    {
     "name": "stdout",
     "output_type": "stream",
     "text": [
      "10 20 30\n"
     ]
    }
   ],
   "source": [
    "## Multiple Statements on a Single Line\n",
    "a=10; b=20; c=30\n",
    "print(a,b,c)"
   ]
  },
  {
   "cell_type": "code",
   "execution_count": 11,
   "id": "aebb1495",
   "metadata": {},
   "outputs": [
    {
     "name": "stdout",
     "output_type": "stream",
     "text": [
      "<class 'int'>\n",
      "<class 'str'>\n"
     ]
    }
   ],
   "source": [
    "## Understand semantics of python\n",
    "# variable assignment\n",
    "age=32 ## age is an integer\n",
    "name=\"Rajib sk\" ## name is a string\n",
    "\n",
    "type(age) ## check the type of age\n",
    "print(type(age)) ## check the type of age\n",
    "print(type(name)) ## check the type of name"
   ]
  },
  {
   "cell_type": "code",
   "execution_count": 13,
   "id": "34dd84ab",
   "metadata": {},
   "outputs": [
    {
     "name": "stdout",
     "output_type": "stream",
     "text": [
      "<class 'int'>\n",
      "<class 'str'>\n"
     ]
    }
   ],
   "source": [
    "## Type Inference\n",
    "# python is dynamically typed language\n",
    "# no need to declare the type of variable explicitly\n",
    "# python will infer the type of variable automatically\n",
    "\n",
    "variable=10 ## integer\n",
    "\n",
    "print(type(variable)) ## check the type of variable\n",
    "variable=\"Rajib sk\" ## string   \n",
    "print(type(variable)) ## check the type of variable"
   ]
  },
  {
   "cell_type": "markdown",
   "id": "8085f6b6",
   "metadata": {},
   "source": [
    "### Variable\n",
    "#### Variables are fundamental elements in programming used to store data that can be referenced and manipulated in a program. In Python, variables are created when you assign a value to them, and they do not need explicit declaration to reserve memory space. The declaration happens automatically when you assign a value to a variable."
   ]
  },
  {
   "cell_type": "code",
   "execution_count": 14,
   "id": "f3e3120c",
   "metadata": {},
   "outputs": [
    {
     "name": "stdout",
     "output_type": "stream",
     "text": [
      "32\n",
      "Rajib sk\n",
      "10000.5\n",
      "True\n",
      "False\n",
      "01712345678\n"
     ]
    }
   ],
   "source": [
    "### Declaring And Assigning Variables\n",
    "\n",
    "age=32 ## integer\n",
    "name=\"Rajib sk\" ## string\n",
    "salary=10000.50 ## float\n",
    "is_student=True ## boolean\n",
    "is_employee=False ## boolean\n",
    "phone_number=\"01712345678\" ## string\n",
    "\n",
    "print(age) ## print age\n",
    "print(name) ## print name\n",
    "print(salary) ## print salary\n",
    "print(is_student) ## print is_student\n",
    "print(is_employee) ## print is_employee\n",
    "print(phone_number) ## print phone_number\n"
   ]
  },
  {
   "cell_type": "code",
   "execution_count": 16,
   "id": "d87cbfe8",
   "metadata": {},
   "outputs": [],
   "source": [
    "### Naming conventions\n",
    "# 1. Variable names can only contain letters, numbers, and underscores.\n",
    "# 2. Variable names cannot start with a number.\n",
    "# 3. Variable names are case-sensitive.\n",
    "# 4. Variable names cannot be a reserved keyword in Python.\n",
    "# 5. Variable names should be descriptive and meaningful.\n",
    "# 6. Variable names should be in lowercase.\n",
    "# 7. Variable names should be separated by underscores.\n",
    "# 8. Variable names should not be too long or too short.\n",
    "# 9. Variable names should not contain special characters or spaces.\n",
    "# 10. Variable names should not be too similar to each other.\n",
    "# 11. Variable names should not be too generic or vague.\n",
    "\n"
   ]
  },
  {
   "cell_type": "code",
   "execution_count": 18,
   "id": "fc88f378",
   "metadata": {},
   "outputs": [],
   "source": [
    "## Understanding Variable Types\n",
    "## Python is a dynamically typed language, which means that you don't need to declare the type of a variable when you create it. Python will automatically infer the type based on the value you assign to it,during runtime. This makes Python very flexible and easy to use, as you can change the type of a variable at any time without having to declare it again. For example, you can assign an integer value to a variable and then later assign a string value to the same variable without any issues.\n",
    "## However, it's important to understand the different types of variables in Python, as they can affect how you use them in your code."
   ]
  },
  {
   "cell_type": "code",
   "execution_count": null,
   "id": "e1935e24",
   "metadata": {},
   "outputs": [
    {
     "name": "stdout",
     "output_type": "stream",
     "text": [
      "<class 'str'>\n",
      "<class 'int'>\n",
      "<class 'str'>\n"
     ]
    },
    {
     "ename": "ValueError",
     "evalue": "invalid literal for int() with base 10: 'rajib'",
     "output_type": "error",
     "traceback": [
      "\u001b[31m---------------------------------------------------------------------------\u001b[39m",
      "\u001b[31mValueError\u001b[39m                                Traceback (most recent call last)",
      "\u001b[36mCell\u001b[39m\u001b[36m \u001b[39m\u001b[32mIn[20]\u001b[39m\u001b[32m, line 23\u001b[39m\n\u001b[32m     21\u001b[39m name=\u001b[33m'\u001b[39m\u001b[33mrajib\u001b[39m\u001b[33m'\u001b[39m\n\u001b[32m     22\u001b[39m \u001b[38;5;28mprint\u001b[39m(\u001b[38;5;28mtype\u001b[39m(name)) \u001b[38;5;66;03m## check the type of name\u001b[39;00m\n\u001b[32m---> \u001b[39m\u001b[32m23\u001b[39m name=\u001b[38;5;28;43mint\u001b[39;49m\u001b[43m(\u001b[49m\u001b[43mname\u001b[49m\u001b[43m)\u001b[49m \u001b[38;5;66;03m## convert name to integer\u001b[39;00m\n\u001b[32m     24\u001b[39m \u001b[38;5;28mprint\u001b[39m(\u001b[38;5;28mtype\u001b[39m(name)) \u001b[38;5;66;03m## check the type of name\u001b[39;00m\n",
      "\u001b[31mValueError\u001b[39m: invalid literal for int() with base 10: 'rajib'"
     ]
    }
   ],
   "source": [
    "## Type checking and Conversion\\\n",
    "# Python provides built-in functions to check the type of a variable and convert it to a different type. The most commonly used functions are:\n",
    "# 1. type(): This function returns the type of a variable.\n",
    "# 2. int(): This function converts a variable to an integer type.\n",
    "# 3. float(): This function converts a variable to a float type.\n",
    "# 4. str(): This function converts a variable to a string type.\n",
    "# 5. bool(): This function converts a variable to a boolean type.\n",
    "# 6. list(): This function converts a variable to a list type.\n",
    "# 7. tuple(): This function converts a variable to a tuple type.\n",
    "# 8. set(): This function converts a variable to a set type.\n",
    "# 9. dict(): This function converts a variable to a dictionary type.\n",
    "# 10. complex(): This function converts a variable to a complex number type.\n",
    "# 11. bin(): This function converts a variable to a binary number type.\n",
    "\n",
    "age='32' ## string\n",
    "print(type(age)) ## check the type of age\n",
    "age=int(age) ## convert age to integer\n",
    "print(type(age)) ## check the type of age\n",
    "\n",
    "\n",
    "name='rajib'\n",
    "print(type(name)) ## check the type of name\n",
    "name=int(name) ## convert name to integer \n",
    "print(type(name)) ## check the type of name"
   ]
  },
  {
   "cell_type": "code",
   "execution_count": null,
   "id": "24d36639",
   "metadata": {},
   "outputs": [],
   "source": [
    "## Compassion operator\n",
    "# 1. == : equal to\n",
    "# 2. != : not equal to\n",
    "# 3. > : greater than\n",
    "# 4. < : less than\n",
    "# 5. >= : greater than or equal to\n",
    "# 6. <= : less than or equal to\n",
    "\n",
    "## Logical operator\n",
    "# 1. and : logical and\n",
    "# 2. or : logical or\n",
    "# 3. not : logical not"
   ]
  },
  {
   "cell_type": "markdown",
   "id": "3e3a35c7",
   "metadata": {},
   "source": [
    "## Python control flow"
   ]
  },
  {
   "cell_type": "code",
   "execution_count": 21,
   "id": "c8105479",
   "metadata": {},
   "outputs": [
    {
     "name": "stdout",
     "output_type": "stream",
     "text": [
      "You are an adult\n"
     ]
    }
   ],
   "source": [
    "## if statement\n",
    "\n",
    "age=20\n",
    " \n",
    "if age>18:\n",
    "    print(\"You are an adult\")"
   ]
  },
  {
   "cell_type": "code",
   "execution_count": 22,
   "id": "41c8778c",
   "metadata": {},
   "outputs": [
    {
     "name": "stdout",
     "output_type": "stream",
     "text": [
      "You are a minor\n"
     ]
    }
   ],
   "source": [
    "## else\n",
    "age=16\n",
    "\n",
    "if age>18:\n",
    "    print(\"You are an adult\")\n",
    "else:\n",
    "    print(\"You are a minor\")"
   ]
  },
  {
   "cell_type": "markdown",
   "id": "0290d0bf",
   "metadata": {},
   "source": [
    "##"
   ]
  }
 ],
 "metadata": {
  "kernelspec": {
   "display_name": "Python 3",
   "language": "python",
   "name": "python3"
  },
  "language_info": {
   "codemirror_mode": {
    "name": "ipython",
    "version": 3
   },
   "file_extension": ".py",
   "mimetype": "text/x-python",
   "name": "python",
   "nbconvert_exporter": "python",
   "pygments_lexer": "ipython3",
   "version": "3.12.9"
  }
 },
 "nbformat": 4,
 "nbformat_minor": 5
}

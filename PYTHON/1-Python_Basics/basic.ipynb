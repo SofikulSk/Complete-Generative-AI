{
 "cells": [
  {
   "cell_type": "markdown",
   "id": "83279d53",
   "metadata": {},
   "source": [
    "### Syntax"
   ]
  },
  {
   "cell_type": "markdown",
   "id": "dd2decf7",
   "metadata": {},
   "source": [
    "#### Syntax refers to the set of rules that defines the combinations of symbols that are considered to be correctly structured programs in a language. In simpler terms, syntax is about the correct arrangement of words and symbols in a code"
   ]
  },
  {
   "cell_type": "markdown",
   "id": "c272a835",
   "metadata": {},
   "source": [
    "### Semantics"
   ]
  },
  {
   "cell_type": "markdown",
   "id": "111b79d4",
   "metadata": {},
   "source": [
    "#### Semantics refers to the meaning or the interpretation of the symbols, characters, and commands in a language. It is about what the code is supposed to do when it runs."
   ]
  },
  {
   "cell_type": "code",
   "execution_count": 3,
   "id": "f2bf41bc",
   "metadata": {},
   "outputs": [
    {
     "name": "stdout",
     "output_type": "stream",
     "text": [
      "Rajib sk\n",
      "Sofikul sk\n"
     ]
    }
   ],
   "source": [
    "## Case sensitivity: python is case sensitive\n",
    "name=\"Rajib sk\"\n",
    "Name=\"Sofikul sk\"\n",
    "\n",
    "print(name)\n",
    "print(Name)"
   ]
  },
  {
   "cell_type": "markdown",
   "id": "c89c2933",
   "metadata": {},
   "source": [
    "### Indentation\n",
    "#### Indentation in Python is used to define the structure and hierarchy of the code. Unlike many other programming languages that use braces {} to delimit blocks of code, Python uses indentation to determine the grouping of statements. This means that all the statements within a block must be indented at the same level.\n",
    "\n",
    "\n",
    "#### python uses indentation to define blocks of code. Consistent use of spaces (Commonly) or a tab is required"
   ]
  },
  {
   "cell_type": "code",
   "execution_count": 7,
   "id": "0c65b728",
   "metadata": {},
   "outputs": [
    {
     "name": "stdout",
     "output_type": "stream",
     "text": [
      "Age is greater than 30\n",
      "32\n"
     ]
    }
   ],
   "source": [
    "# indentation\n",
    "age=32\n",
    "if age>30:\n",
    "    print(\"Age is greater than 30\")\n",
    "else:\n",
    "    print(\"Age is less than 30\")\n",
    "    \n",
    "    \n",
    "print(age)"
   ]
  },
  {
   "cell_type": "code",
   "execution_count": 8,
   "id": "397372b7",
   "metadata": {},
   "outputs": [
    {
     "name": "stdout",
     "output_type": "stream",
     "text": [
      "585\n"
     ]
    }
   ],
   "source": [
    "# Line Continuation\n",
    "total=1+2+3+4+5+6+7+8+9+20+\\\n",
    "    30+40+50+60+70+80+90+100\n",
    "print(total)"
   ]
  },
  {
   "cell_type": "code",
   "execution_count": 9,
   "id": "d837a4e0",
   "metadata": {},
   "outputs": [
    {
     "name": "stdout",
     "output_type": "stream",
     "text": [
      "10 20 30\n"
     ]
    }
   ],
   "source": [
    "## Multiple Statements on a Single Line\n",
    "a=10; b=20; c=30\n",
    "print(a,b,c)"
   ]
  },
  {
   "cell_type": "code",
   "execution_count": 11,
   "id": "aebb1495",
   "metadata": {},
   "outputs": [
    {
     "name": "stdout",
     "output_type": "stream",
     "text": [
      "<class 'int'>\n",
      "<class 'str'>\n"
     ]
    }
   ],
   "source": [
    "## Understand semantics of python\n",
    "# variable assignment\n",
    "age=32 ## age is an integer\n",
    "name=\"Rajib sk\" ## name is a string\n",
    "\n",
    "type(age) ## check the type of age\n",
    "print(type(age)) ## check the type of age\n",
    "print(type(name)) ## check the type of name"
   ]
  },
  {
   "cell_type": "code",
   "execution_count": 13,
   "id": "34dd84ab",
   "metadata": {},
   "outputs": [
    {
     "name": "stdout",
     "output_type": "stream",
     "text": [
      "<class 'int'>\n",
      "<class 'str'>\n"
     ]
    }
   ],
   "source": [
    "## Type Inference\n",
    "# python is dynamically typed language\n",
    "# no need to declare the type of variable explicitly\n",
    "# python will infer the type of variable automatically\n",
    "\n",
    "variable=10 ## integer\n",
    "\n",
    "print(type(variable)) ## check the type of variable\n",
    "variable=\"Rajib sk\" ## string   \n",
    "print(type(variable)) ## check the type of variable"
   ]
  },
  {
   "cell_type": "markdown",
   "id": "8085f6b6",
   "metadata": {},
   "source": [
    "### Variable\n",
    "#### Variables are fundamental elements in programming used to store data that can be referenced and manipulated in a program. In Python, variables are created when you assign a value to them, and they do not need explicit declaration to reserve memory space. The declaration happens automatically when you assign a value to a variable."
   ]
  },
  {
   "cell_type": "code",
   "execution_count": 14,
   "id": "f3e3120c",
   "metadata": {},
   "outputs": [
    {
     "name": "stdout",
     "output_type": "stream",
     "text": [
      "32\n",
      "Rajib sk\n",
      "10000.5\n",
      "True\n",
      "False\n",
      "01712345678\n"
     ]
    }
   ],
   "source": [
    "### Declaring And Assigning Variables\n",
    "\n",
    "age=32 ## integer\n",
    "name=\"Rajib sk\" ## string\n",
    "salary=10000.50 ## float\n",
    "is_student=True ## boolean\n",
    "is_employee=False ## boolean\n",
    "phone_number=\"01712345678\" ## string\n",
    "\n",
    "print(age) ## print age\n",
    "print(name) ## print name\n",
    "print(salary) ## print salary\n",
    "print(is_student) ## print is_student\n",
    "print(is_employee) ## print is_employee\n",
    "print(phone_number) ## print phone_number\n"
   ]
  },
  {
   "cell_type": "code",
   "execution_count": null,
   "id": "d87cbfe8",
   "metadata": {},
   "outputs": [],
   "source": [
    "### Naming conventions\n",
    "# 1. Variable names can only contain letters, numbers, and underscores.\n",
    "# 2. Variable names cannot start with a number.\n",
    "# 3. Variable names are case-sensitive.\n",
    "# 4. Variable names cannot be a reserved keyword in Python.\n",
    "# 5. Variable names should be descriptive and meaningful.\n",
    "# 6. Variable names should be in lowercase.\n",
    "# 7. Variable names should be separated by underscores.\n",
    "# 8. Variable names should not be too long or too short.\n",
    "# 9. Variable names should not contain special characters or spaces.\n",
    "# 10. Variable names should not be too similar to each other.\n",
    "# 11. Variable names should not be too generic or vague.\n",
    "\n"
   ]
  },
  {
   "cell_type": "markdown",
   "id": "0290d0bf",
   "metadata": {},
   "source": [
    "##"
   ]
  },
  {
   "cell_type": "markdown",
   "id": "4bbf8cc4",
   "metadata": {},
   "source": []
  }
 ],
 "metadata": {
  "kernelspec": {
   "display_name": "Python 3",
   "language": "python",
   "name": "python3"
  },
  "language_info": {
   "codemirror_mode": {
    "name": "ipython",
    "version": 3
   },
   "file_extension": ".py",
   "mimetype": "text/x-python",
   "name": "python",
   "nbconvert_exporter": "python",
   "pygments_lexer": "ipython3",
   "version": "3.12.9"
  }
 },
 "nbformat": 4,
 "nbformat_minor": 5
}

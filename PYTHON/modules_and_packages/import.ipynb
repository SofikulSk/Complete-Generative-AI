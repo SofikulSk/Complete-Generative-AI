{
 "cells": [
  {
   "cell_type": "markdown",
   "id": "fd3fe3a6",
   "metadata": {},
   "source": [
    "### Importing Modules in python :modules and packages"
   ]
  },
  {
   "cell_type": "markdown",
   "id": "d15d633b",
   "metadata": {},
   "source": [
    "In python ,modules and packages help organize and reuse code."
   ]
  },
  {
   "cell_type": "code",
   "execution_count": 1,
   "id": "05398844",
   "metadata": {},
   "outputs": [
    {
     "name": "stdout",
     "output_type": "stream",
     "text": [
      "4.0\n",
      "120\n"
     ]
    }
   ],
   "source": [
    "import math\n",
    "\n",
    "print(math.sqrt(16))\n",
    "print(math.factorial(5))"
   ]
  },
  {
   "cell_type": "code",
   "execution_count": 2,
   "id": "16d6ecaf",
   "metadata": {},
   "outputs": [
    {
     "name": "stdout",
     "output_type": "stream",
     "text": [
      "3.141592653589793\n",
      "0.0\n",
      "1.0\n"
     ]
    }
   ],
   "source": [
    "from math import pi,sin\n",
    "print(pi)\n",
    "print(sin(0))\n",
    "print(sin(math.pi/2))"
   ]
  },
  {
   "cell_type": "code",
   "execution_count": 3,
   "id": "2dca3328",
   "metadata": {},
   "outputs": [
    {
     "name": "stdout",
     "output_type": "stream",
     "text": [
      "[1 2 3]\n"
     ]
    }
   ],
   "source": [
    "import numpy as np\n",
    "print(np.array([1, 2, 3]))"
   ]
  },
  {
   "cell_type": "code",
   "execution_count": null,
   "id": "22cc4c6c",
   "metadata": {},
   "outputs": [
    {
     "name": "stdout",
     "output_type": "stream",
     "text": [
      "1.6197751905438615\n"
     ]
    }
   ],
   "source": [
    "from math import *   # import all functions from math module\n",
    "print(tan(45))"
   ]
  },
  {
   "cell_type": "code",
   "execution_count": 13,
   "id": "8c87912c",
   "metadata": {},
   "outputs": [
    {
     "name": "stdout",
     "output_type": "stream",
     "text": [
      "15\n"
     ]
    }
   ],
   "source": [
    "from package.maths import addition\n",
    "\n",
    "print(addition(5, 10))"
   ]
  },
  {
   "cell_type": "code",
   "execution_count": 19,
   "id": "06faa344",
   "metadata": {},
   "outputs": [
    {
     "ename": "ImportError",
     "evalue": "cannot import name 'subtraction' from 'package.maths' (c:\\Users\\deskop\\OneDrive\\Desktop\\Compete-genAi\\PYTHON\\modules_and_packages\\package\\maths.py)",
     "output_type": "error",
     "traceback": [
      "\u001b[31m---------------------------------------------------------------------------\u001b[39m",
      "\u001b[31mImportError\u001b[39m                               Traceback (most recent call last)",
      "\u001b[36mCell\u001b[39m\u001b[36m \u001b[39m\u001b[32mIn[19]\u001b[39m\u001b[32m, line 1\u001b[39m\n\u001b[32m----> \u001b[39m\u001b[32m1\u001b[39m \u001b[38;5;28;01mfrom\u001b[39;00m\u001b[38;5;250m \u001b[39m\u001b[34;01mpackage\u001b[39;00m\u001b[34;01m.\u001b[39;00m\u001b[34;01mmaths\u001b[39;00m\u001b[38;5;250m \u001b[39m\u001b[38;5;28;01mimport\u001b[39;00m subtraction\n\u001b[32m      3\u001b[39m \u001b[38;5;28mprint\u001b[39m(subtraction(\u001b[32m10\u001b[39m, \u001b[32m5\u001b[39m))\n",
      "\u001b[31mImportError\u001b[39m: cannot import name 'subtraction' from 'package.maths' (c:\\Users\\deskop\\OneDrive\\Desktop\\Compete-genAi\\PYTHON\\modules_and_packages\\package\\maths.py)"
     ]
    }
   ],
   "source": [
    "from package.maths import subtraction\n",
    "\n",
    "print(subtraction(10, 5))"
   ]
  },
  {
   "cell_type": "code",
   "execution_count": 18,
   "id": "94908b96",
   "metadata": {},
   "outputs": [
    {
     "ename": "ImportError",
     "evalue": "cannot import name 'division' from 'package.maths' (c:\\Users\\deskop\\OneDrive\\Desktop\\Compete-genAi\\PYTHON\\modules_and_packages\\package\\maths.py)",
     "output_type": "error",
     "traceback": [
      "\u001b[31m---------------------------------------------------------------------------\u001b[39m",
      "\u001b[31mImportError\u001b[39m                               Traceback (most recent call last)",
      "\u001b[36mCell\u001b[39m\u001b[36m \u001b[39m\u001b[32mIn[18]\u001b[39m\u001b[32m, line 1\u001b[39m\n\u001b[32m----> \u001b[39m\u001b[32m1\u001b[39m \u001b[38;5;28;01mfrom\u001b[39;00m\u001b[38;5;250m \u001b[39m\u001b[34;01mpackage\u001b[39;00m\u001b[34;01m.\u001b[39;00m\u001b[34;01mmaths\u001b[39;00m\u001b[38;5;250m \u001b[39m\u001b[38;5;28;01mimport\u001b[39;00m division\n\u001b[32m      3\u001b[39m \u001b[38;5;28mprint\u001b[39m(division(\u001b[32m10\u001b[39m, \u001b[32m5\u001b[39m))\n",
      "\u001b[31mImportError\u001b[39m: cannot import name 'division' from 'package.maths' (c:\\Users\\deskop\\OneDrive\\Desktop\\Compete-genAi\\PYTHON\\modules_and_packages\\package\\maths.py)"
     ]
    }
   ],
   "source": [
    "from package.maths import division\n",
    "\n",
    "print(division(10, 5))\n",
    "\n"
   ]
  },
  {
   "cell_type": "code",
   "execution_count": null,
   "id": "0dbe9907",
   "metadata": {},
   "outputs": [],
   "source": []
  }
 ],
 "metadata": {
  "kernelspec": {
   "display_name": "Python 3",
   "language": "python",
   "name": "python3"
  },
  "language_info": {
   "codemirror_mode": {
    "name": "ipython",
    "version": 3
   },
   "file_extension": ".py",
   "mimetype": "text/x-python",
   "name": "python",
   "nbconvert_exporter": "python",
   "pygments_lexer": "ipython3",
   "version": "3.12.9"
  }
 },
 "nbformat": 4,
 "nbformat_minor": 5
}

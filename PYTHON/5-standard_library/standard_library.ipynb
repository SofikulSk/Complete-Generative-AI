{
 "cells": [
  {
   "cell_type": "markdown",
   "id": "065fac79",
   "metadata": {},
   "source": [
    "### Standard Library Overview"
   ]
  },
  {
   "cell_type": "code",
   "execution_count": 1,
   "id": "689ade23",
   "metadata": {},
   "outputs": [
    {
     "name": "stdout",
     "output_type": "stream",
     "text": [
      "array('i', [1, 2, 3, 4, 5])\n"
     ]
    }
   ],
   "source": [
    "import array\n",
    "arr=array.array('i', [1, 2, 3, 4, 5])\n",
    "print(arr)"
   ]
  },
  {
   "cell_type": "code",
   "execution_count": 2,
   "id": "5368d8c9",
   "metadata": {},
   "outputs": [
    {
     "name": "stdout",
     "output_type": "stream",
     "text": [
      "4.0\n"
     ]
    }
   ],
   "source": [
    "import math \n",
    "print(math.sqrt(16))"
   ]
  },
  {
   "cell_type": "code",
   "execution_count": 6,
   "id": "b355a027",
   "metadata": {},
   "outputs": [
    {
     "name": "stdout",
     "output_type": "stream",
     "text": [
      "6\n",
      "blue\n"
     ]
    }
   ],
   "source": [
    "import random\n",
    "print(random.randint(1, 10))\n",
    "print(random.choice(['red', 'blue', 'green']))"
   ]
  },
  {
   "cell_type": "code",
   "execution_count": 7,
   "id": "c2acf481",
   "metadata": {},
   "outputs": [
    {
     "name": "stdout",
     "output_type": "stream",
     "text": [
      "c:\\Users\\deskop\\OneDrive\\Desktop\\Compete-genAi\\PYTHON\\5-standard_library\n",
      "['standard_library.ipynb']\n"
     ]
    }
   ],
   "source": [
    "### File and Directory Operations\n",
    "import os\n",
    "print(os.getcwd())  # Get current working directory\n",
    "print(os.listdir('.'))  # List files in current directory"
   ]
  },
  {
   "cell_type": "code",
   "execution_count": 8,
   "id": "668adb8f",
   "metadata": {},
   "outputs": [],
   "source": [
    "os.mkdir('new_dir')  # Create a new directory"
   ]
  },
  {
   "cell_type": "code",
   "execution_count": null,
   "id": "fc43cdef",
   "metadata": {},
   "outputs": [],
   "source": [
    "## High level file operations\n",
    "import shutil\n",
    "shutil.copyfile('source.txt', 'destination.txt')  # Copy a file\n"
   ]
  }
 ],
 "metadata": {
  "kernelspec": {
   "display_name": "Python 3",
   "language": "python",
   "name": "python3"
  },
  "language_info": {
   "codemirror_mode": {
    "name": "ipython",
    "version": 3
   },
   "file_extension": ".py",
   "mimetype": "text/x-python",
   "name": "python",
   "nbconvert_exporter": "python",
   "pygments_lexer": "ipython3",
   "version": "3.12.9"
  }
 },
 "nbformat": 4,
 "nbformat_minor": 5
}

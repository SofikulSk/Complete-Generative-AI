{
 "cells": [
  {
   "cell_type": "markdown",
   "id": "065fac79",
   "metadata": {},
   "source": [
    "### Standard Library Overview"
   ]
  },
  {
   "cell_type": "code",
   "execution_count": 1,
   "id": "689ade23",
   "metadata": {},
   "outputs": [
    {
     "name": "stdout",
     "output_type": "stream",
     "text": [
      "array('i', [1, 2, 3, 4, 5])\n"
     ]
    }
   ],
   "source": [
    "import array\n",
    "arr=array.array('i', [1, 2, 3, 4, 5])\n",
    "print(arr)"
   ]
  },
  {
   "cell_type": "code",
   "execution_count": 2,
   "id": "5368d8c9",
   "metadata": {},
   "outputs": [
    {
     "name": "stdout",
     "output_type": "stream",
     "text": [
      "4.0\n"
     ]
    }
   ],
   "source": [
    "import math \n",
    "print(math.sqrt(16))"
   ]
  },
  {
   "cell_type": "code",
   "execution_count": 6,
   "id": "b355a027",
   "metadata": {},
   "outputs": [
    {
     "name": "stdout",
     "output_type": "stream",
     "text": [
      "6\n",
      "blue\n"
     ]
    }
   ],
   "source": [
    "import random\n",
    "print(random.randint(1, 10))\n",
    "print(random.choice(['red', 'blue', 'green']))"
   ]
  },
  {
   "cell_type": "code",
   "execution_count": 7,
   "id": "c2acf481",
   "metadata": {},
   "outputs": [
    {
     "name": "stdout",
     "output_type": "stream",
     "text": [
      "c:\\Users\\deskop\\OneDrive\\Desktop\\Compete-genAi\\PYTHON\\5-standard_library\n",
      "['standard_library.ipynb']\n"
     ]
    }
   ],
   "source": [
    "### File and Directory Operations\n",
    "import os\n",
    "print(os.getcwd())  # Get current working directory\n",
    "print(os.listdir('.'))  # List files in current directory"
   ]
  },
  {
   "cell_type": "code",
   "execution_count": 8,
   "id": "668adb8f",
   "metadata": {},
   "outputs": [],
   "source": [
    "os.mkdir('new_dir')  # Create a new directory"
   ]
  },
  {
   "cell_type": "code",
   "execution_count": 10,
   "id": "fc43cdef",
   "metadata": {},
   "outputs": [
    {
     "data": {
      "text/plain": [
       "'destination.txt'"
      ]
     },
     "execution_count": 10,
     "metadata": {},
     "output_type": "execute_result"
    }
   ],
   "source": [
    "## High level file operations\n",
    "import shutil\n",
    "shutil.copyfile('../modules_and_packages/source.txt', 'destination.txt')  # Copy a file\n"
   ]
  },
  {
   "cell_type": "code",
   "execution_count": 12,
   "id": "8718385d",
   "metadata": {},
   "outputs": [
    {
     "name": "stdout",
     "output_type": "stream",
     "text": [
      "{\"name\": \"Alice\", \"age\": 30, \"city\": \"New York\"}\n",
      "{'name': 'Alice', 'age': 30, 'city': 'New York'}\n"
     ]
    }
   ],
   "source": [
    "## Data Serialization\n",
    "import json\n",
    "data = {'name': 'Alice', 'age': 30, 'city': 'New York'}\n",
    "json_string = json.dumps(data)  # Serialize to JSON string  \n",
    "print(json_string)\n",
    "\n",
    "json.loads(json_string)  # Deserialize from JSON string\n",
    "print(json.loads(json_string))  # Deserialize from JSON string"
   ]
  },
  {
   "cell_type": "code",
   "execution_count": 13,
   "id": "301adac9",
   "metadata": {},
   "outputs": [
    {
     "name": "stdout",
     "output_type": "stream",
     "text": [
      "['Name', 'Age']\n",
      "['Alice', '30']\n",
      "['Bob', '25']\n"
     ]
    }
   ],
   "source": [
    "## csv file operations\n",
    "import csv\n",
    "with open('data.csv', mode='w', newline='') as file:\n",
    "    writer = csv.writer(file)\n",
    "    writer.writerow(['Name', 'Age'])\n",
    "    writer.writerow(['Alice', 30])\n",
    "    writer.writerow(['Bob', 25])\n",
    "    \n",
    "with open('data.csv', mode='r') as file:\n",
    "    reader = csv.reader(file)\n",
    "    for row in reader:\n",
    "        print(row)  # Read and print each row from the CSV file"
   ]
  },
  {
   "cell_type": "code",
   "execution_count": 18,
   "id": "a3ce4332",
   "metadata": {},
   "outputs": [
    {
     "name": "stdout",
     "output_type": "stream",
     "text": [
      "Current date and time: 2025-04-06 20:36:54.012620\n",
      "Yesterday's date: 2025-04-05 20:36:54.012620\n"
     ]
    }
   ],
   "source": [
    "## date and time operations\n",
    "from datetime import datetime, timedelta\n",
    "\n",
    "now = datetime.now()\n",
    "print(\"Current date and time:\", now)\n",
    "\n",
    "yesterday = now - timedelta(days=1)\n",
    "print(\"Yesterday's date:\", yesterday)"
   ]
  },
  {
   "cell_type": "code",
   "execution_count": 20,
   "id": "014e9162",
   "metadata": {},
   "outputs": [
    {
     "name": "stdout",
     "output_type": "stream",
     "text": [
      "Current time: 20:37:34\n",
      "Sleeping for 2 seconds...\n",
      "None\n",
      "Awake now!\n"
     ]
    }
   ],
   "source": [
    "## time\n",
    "import time\n",
    "print(\"Current time:\", time.strftime(\"%H:%M:%S\", time.localtime()))\n",
    "print(\"Sleeping for 2 seconds...\")\n",
    "print(time.sleep(2))  # Sleep for 2 seconds\n",
    "print(\"Awake now!\")"
   ]
  },
  {
   "cell_type": "code",
   "execution_count": 21,
   "id": "921668e6",
   "metadata": {},
   "outputs": [
    {
     "name": "stdout",
     "output_type": "stream",
     "text": [
      "First match: 123\n"
     ]
    }
   ],
   "source": [
    "## Regular Expressions\n",
    "import re\n",
    "pattern = r'\\d+'  # Matches one or more digits\n",
    "text = \"There are 123 apples and 456 oranges.\"\n",
    "matches = re.search(pattern, text)\n",
    "print(\"First match:\", matches.group())  # Print the first match"
   ]
  },
  {
   "cell_type": "code",
   "execution_count": null,
   "id": "adbce1d6",
   "metadata": {},
   "outputs": [],
   "source": []
  }
 ],
 "metadata": {
  "kernelspec": {
   "display_name": "Python 3",
   "language": "python",
   "name": "python3"
  },
  "language_info": {
   "codemirror_mode": {
    "name": "ipython",
    "version": 3
   },
   "file_extension": ".py",
   "mimetype": "text/x-python",
   "name": "python",
   "nbconvert_exporter": "python",
   "pygments_lexer": "ipython3",
   "version": "3.12.9"
  }
 },
 "nbformat": 4,
 "nbformat_minor": 5
}

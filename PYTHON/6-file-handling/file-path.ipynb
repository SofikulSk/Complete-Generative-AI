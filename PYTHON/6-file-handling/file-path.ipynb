{
 "cells": [
  {
   "cell_type": "code",
   "execution_count": 1,
   "id": "f6754db6",
   "metadata": {},
   "outputs": [
    {
     "name": "stdout",
     "output_type": "stream",
     "text": [
      "Directory 'pack' created successfully.\n"
     ]
    }
   ],
   "source": [
    "##Create a new directory\n",
    "newdir = input(\"Enter the name of the new directory: \")\n",
    "import os\n",
    "os.mkdir(newdir)\n",
    "print(f\"Directory '{newdir}' created successfully.\")\n",
    "    "
   ]
  },
  {
   "cell_type": "code",
   "execution_count": 2,
   "id": "2f6ae144",
   "metadata": {},
   "outputs": [
    {
     "name": "stdout",
     "output_type": "stream",
     "text": [
      "['example.txt', 'file-operation.ipynb', 'file-path.ipynb', 'pack']\n"
     ]
    }
   ],
   "source": [
    "## Listing file and directories\n",
    "items=os.listdir('.')\n",
    "print(items)"
   ]
  },
  {
   "cell_type": "code",
   "execution_count": 3,
   "id": "997746a8",
   "metadata": {},
   "outputs": [
    {
     "name": "stdout",
     "output_type": "stream",
     "text": [
      "folder\\file.txt\n"
     ]
    }
   ],
   "source": [
    "### Joining paths\n",
    "import os.path\n",
    "\n",
    "dir_name='folder'\n",
    "file_name='file.txt'\n",
    "full_path=os.path.join(dir_name,file_name)\n",
    "print(full_path)"
   ]
  },
  {
   "cell_type": "code",
   "execution_count": 5,
   "id": "96476d88",
   "metadata": {},
   "outputs": [
    {
     "name": "stdout",
     "output_type": "stream",
     "text": [
      "c:\\Users\\deskop\\OneDrive\\Desktop\\Compete-genAi\\PYTHON\\6-file-handling\\folder\\file.txt\n"
     ]
    }
   ],
   "source": [
    "### Joining paths\n",
    "import os.path\n",
    "\n",
    "dir_name='folder'\n",
    "file_name='file.txt'\n",
    "full_path=os.path.join(os.getcwd(),dir_name,file_name)\n",
    "print(full_path)"
   ]
  },
  {
   "cell_type": "code",
   "execution_count": 6,
   "id": "0cb7fc77",
   "metadata": {},
   "outputs": [
    {
     "name": "stdout",
     "output_type": "stream",
     "text": [
      "The file exists\n"
     ]
    }
   ],
   "source": [
    "path='example.txt'\n",
    "if os.path.exists(path):\n",
    "    print(\"The file exists\")\n",
    "else:\n",
    "    print(\"The file does not exist\")"
   ]
  },
  {
   "cell_type": "code",
   "execution_count": 7,
   "id": "d7defe14",
   "metadata": {},
   "outputs": [
    {
     "name": "stdout",
     "output_type": "stream",
     "text": [
      "example.txt is a file.\n"
     ]
    }
   ],
   "source": [
    "### Check if a path is a file or directory\n",
    "import os\n",
    "\n",
    "path = 'example.txt'\n",
    "if os.path.isfile(path):\n",
    "    print(f\"{path} is a file.\")\n",
    "elif os.path.isdir(path):\n",
    "    print(f\"{path} is a directory.\")\n",
    "else:\n",
    "    print(f\"{path} is neither a file nor a directory.\")\n",
    "    "
   ]
  },
  {
   "cell_type": "code",
   "execution_count": 8,
   "id": "c922dc1d",
   "metadata": {},
   "outputs": [
    {
     "name": "stdout",
     "output_type": "stream",
     "text": [
      "The absolute path of example.txt is c:\\Users\\deskop\\OneDrive\\Desktop\\Compete-genAi\\PYTHON\\6-file-handling\\example.txt.\n"
     ]
    }
   ],
   "source": [
    "## getting the absolute path of a file\n",
    "import os\n",
    "relative_path = 'example.txt'\n",
    "absolute_path = os.path.abspath(relative_path)\n",
    "print(f\"The absolute path of {relative_path} is {absolute_path}.\")  \n"
   ]
  },
  {
   "cell_type": "code",
   "execution_count": null,
   "id": "1fc425b5",
   "metadata": {},
   "outputs": [],
   "source": []
  }
 ],
 "metadata": {
  "kernelspec": {
   "display_name": "Python 3",
   "language": "python",
   "name": "python3"
  },
  "language_info": {
   "codemirror_mode": {
    "name": "ipython",
    "version": 3
   },
   "file_extension": ".py",
   "mimetype": "text/x-python",
   "name": "python",
   "nbconvert_exporter": "python",
   "pygments_lexer": "ipython3",
   "version": "3.12.9"
  }
 },
 "nbformat": 4,
 "nbformat_minor": 5
}

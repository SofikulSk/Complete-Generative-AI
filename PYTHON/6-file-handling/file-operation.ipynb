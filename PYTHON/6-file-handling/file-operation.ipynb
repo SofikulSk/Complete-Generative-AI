{
 "cells": [
  {
   "cell_type": "markdown",
   "id": "8b69d39d",
   "metadata": {},
   "source": [
    "### File operation-Read and Write Files"
   ]
  },
  {
   "cell_type": "markdown",
   "id": "f6a931fb",
   "metadata": {},
   "source": [
    "File handling is a crucial part of any programming language. Python provides built-in functions and methods to read from and write to files, both text and binary. This lesson will cover the basics of file handling, including reading and writing text files and binary files."
   ]
  },
  {
   "cell_type": "code",
   "execution_count": 2,
   "id": "77d85807",
   "metadata": {},
   "outputs": [
    {
     "name": "stdout",
     "output_type": "stream",
     "text": [
      "hello how are you?\n",
      "my name is sofikul sofikul\n"
     ]
    }
   ],
   "source": [
    "### Read a Whole File\n",
    "\n",
    "with open('example.txt','r') as file:\n",
    "    data = file.read()\n",
    "    print(data)"
   ]
  },
  {
   "cell_type": "code",
   "execution_count": null,
   "id": "3a1b36a0",
   "metadata": {},
   "outputs": [
    {
     "name": "stdout",
     "output_type": "stream",
     "text": [
      "hello how are you?\n",
      "my name is sofikul sofikul\n"
     ]
    }
   ],
   "source": [
    "## Read Line by Line\n",
    "\n",
    "with open('example.txt','r') as file:\n",
    "    for line in file:\n",
    "        print(line.strip()) ## strip() removes the newline character at the end of each line\n",
    "        "
   ]
  },
  {
   "cell_type": "code",
   "execution_count": null,
   "id": "4b4047f7",
   "metadata": {},
   "outputs": [],
   "source": [
    "## Write to a File\n",
    "\n",
    "with open('example.txt','w') as file:\n",
    "    file.write('Hello, World!\\n')\n",
    "    file.write('This is a test.\\n')\n",
    "    file.write('Goodbye!\\n')"
   ]
  },
  {
   "cell_type": "code",
   "execution_count": null,
   "id": "f6d92bc8",
   "metadata": {},
   "outputs": [],
   "source": [
    "## Write a file without overwriting\n",
    "with open('example.txt','a') as file:\n",
    "    file.write('This line will be appended.\\n')\n",
    "    "
   ]
  },
  {
   "cell_type": "code",
   "execution_count": null,
   "id": "f63aa507",
   "metadata": {},
   "outputs": [],
   "source": []
  }
 ],
 "metadata": {
  "kernelspec": {
   "display_name": "Python 3",
   "language": "python",
   "name": "python3"
  },
  "language_info": {
   "codemirror_mode": {
    "name": "ipython",
    "version": 3
   },
   "file_extension": ".py",
   "mimetype": "text/x-python",
   "name": "python",
   "nbconvert_exporter": "python",
   "pygments_lexer": "ipython3",
   "version": "3.12.9"
  }
 },
 "nbformat": 4,
 "nbformat_minor": 5
}
